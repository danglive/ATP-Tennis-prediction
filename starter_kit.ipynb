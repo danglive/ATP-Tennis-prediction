{
  "nbformat": 4,
  "nbformat_minor": 0,
  "metadata": {
    "kernelspec": {
      "display_name": "Python 3",
      "language": "python",
      "name": "python3"
    },
    "language_info": {
      "codemirror_mode": {
        "name": "ipython",
        "version": 3
      },
      "file_extension": ".py",
      "mimetype": "text/x-python",
      "name": "python",
      "nbconvert_exporter": "python",
      "pygments_lexer": "ipython3",
      "version": "3.6.5"
    },
    "colab": {
      "name": "starter_kit.ipynb",
      "provenance": [],
      "collapsed_sections": [],
      "include_colab_link": true
    }
  },
  "cells": [
    {
      "cell_type": "markdown",
      "metadata": {
        "id": "view-in-github",
        "colab_type": "text"
      },
      "source": [
        "<a href=\"https://colab.research.google.com/github/danglive/ATP-Tennis-prediction/blob/master/starter_kit.ipynb\" target=\"_parent\"><img src=\"https://colab.research.google.com/assets/colab-badge.svg\" alt=\"Open In Colab\"/></a>"
      ]
    },
    {
      "cell_type": "code",
      "metadata": {
        "id": "gBTSrrK1YuC3",
        "colab_type": "code",
        "colab": {}
      },
      "source": [
        "import pandas as pd\n",
        "from urllib.request import urlopen  \n",
        "import os.path as osp\n",
        "import os\n",
        "import numpy as np\n",
        "import re\n",
        "import logging\n",
        "import zipfile\n",
        "from glob import glob\n",
        "logging.getLogger().setLevel('INFO')"
      ],
      "execution_count": 0,
      "outputs": []
    },
    {
      "cell_type": "markdown",
      "metadata": {
        "id": "_fc6IBlEYuC7",
        "colab_type": "text"
      },
      "source": [
        "## Helpers"
      ]
    },
    {
      "cell_type": "code",
      "metadata": {
        "id": "CxxnqlieYuC8",
        "colab_type": "code",
        "colab": {}
      },
      "source": [
        "def download_file(url_str, path):\n",
        "    url = urlopen(url_str)\n",
        "    output = open(path, 'wb')       \n",
        "    output.write(url.read())\n",
        "    output.close()  \n",
        "    \n",
        "def extract_file(archive_path, target_dir):\n",
        "    zip_file = zipfile.ZipFile(archive_path, 'r')\n",
        "    zip_file.extractall(target_dir)\n",
        "    zip_file.close()"
      ],
      "execution_count": 0,
      "outputs": []
    },
    {
      "cell_type": "markdown",
      "metadata": {
        "id": "YG2ytnjdYuC-",
        "colab_type": "text"
      },
      "source": [
        "## Download the dataset"
      ]
    },
    {
      "cell_type": "code",
      "metadata": {
        "id": "uXV0y-UBYuC_",
        "colab_type": "code",
        "outputId": "25e44bdb-c809-44d6-e52a-057e33bb8b27",
        "colab": {
          "base_uri": "https://localhost:8080/",
          "height": 816
        }
      },
      "source": [
        "BASE_URL = 'http://tennis-data.co.uk'\n",
        "DATA_DIR = \"tennis_data\"\n",
        "ATP_DIR = './{}/ATP'.format(DATA_DIR)\n",
        "WTA_DIR = './{}/WTA'.format(DATA_DIR)\n",
        "\n",
        "ATP_URLS = [BASE_URL + \"/%i/%i.zip\" % (i,i) for i in range(2000,2019)]\n",
        "WTA_URLS = [BASE_URL + \"/%iw/%i.zip\" % (i,i) for i in range(2007,2019)]\n",
        "\n",
        "os.makedirs(osp.join(ATP_DIR, 'archives'), exist_ok=True)\n",
        "os.makedirs(osp.join(WTA_DIR, 'archives'), exist_ok=True)\n",
        "\n",
        "for files, directory in ((ATP_URLS, ATP_DIR), (WTA_URLS, WTA_DIR)):\n",
        "    for dl_path in files:\n",
        "        logging.info(\"downloading & extracting file %s\", dl_path)\n",
        "        archive_path = osp.join(directory, 'archives', osp.basename(dl_path))\n",
        "        download_file(dl_path, archive_path)\n",
        "        extract_file(archive_path, directory)\n",
        "    \n",
        "ATP_FILES = sorted(glob(\"%s/*.xls*\" % ATP_DIR))\n",
        "WTA_FILES = sorted(glob(\"%s/*.xls*\" % WTA_DIR))\n",
        "\n",
        "df_atp = pd.concat([pd.read_excel(f) for f in ATP_FILES], ignore_index=True)\n",
        "df_wta = pd.concat([pd.read_excel(f) for f in WTA_FILES], ignore_index=True)\n",
        "\n",
        "logging.info(\"%i matches ATP in df_atp\", df_atp.shape[0])\n",
        "logging.info(\"%i matches WTA in df_wta\", df_wta.shape[0])"
      ],
      "execution_count": 0,
      "outputs": [
        {
          "output_type": "stream",
          "text": [
            "INFO:root:downloading & extracting file http://tennis-data.co.uk/2000/2000.zip\n",
            "INFO:root:downloading & extracting file http://tennis-data.co.uk/2001/2001.zip\n",
            "INFO:root:downloading & extracting file http://tennis-data.co.uk/2002/2002.zip\n",
            "INFO:root:downloading & extracting file http://tennis-data.co.uk/2003/2003.zip\n",
            "INFO:root:downloading & extracting file http://tennis-data.co.uk/2004/2004.zip\n",
            "INFO:root:downloading & extracting file http://tennis-data.co.uk/2005/2005.zip\n",
            "INFO:root:downloading & extracting file http://tennis-data.co.uk/2006/2006.zip\n",
            "INFO:root:downloading & extracting file http://tennis-data.co.uk/2007/2007.zip\n",
            "INFO:root:downloading & extracting file http://tennis-data.co.uk/2008/2008.zip\n",
            "INFO:root:downloading & extracting file http://tennis-data.co.uk/2009/2009.zip\n",
            "INFO:root:downloading & extracting file http://tennis-data.co.uk/2010/2010.zip\n",
            "INFO:root:downloading & extracting file http://tennis-data.co.uk/2011/2011.zip\n",
            "INFO:root:downloading & extracting file http://tennis-data.co.uk/2012/2012.zip\n",
            "INFO:root:downloading & extracting file http://tennis-data.co.uk/2013/2013.zip\n",
            "INFO:root:downloading & extracting file http://tennis-data.co.uk/2014/2014.zip\n",
            "INFO:root:downloading & extracting file http://tennis-data.co.uk/2015/2015.zip\n",
            "INFO:root:downloading & extracting file http://tennis-data.co.uk/2016/2016.zip\n",
            "INFO:root:downloading & extracting file http://tennis-data.co.uk/2017/2017.zip\n",
            "INFO:root:downloading & extracting file http://tennis-data.co.uk/2018/2018.zip\n",
            "INFO:root:downloading & extracting file http://tennis-data.co.uk/2007w/2007.zip\n",
            "INFO:root:downloading & extracting file http://tennis-data.co.uk/2008w/2008.zip\n",
            "INFO:root:downloading & extracting file http://tennis-data.co.uk/2009w/2009.zip\n",
            "INFO:root:downloading & extracting file http://tennis-data.co.uk/2010w/2010.zip\n",
            "INFO:root:downloading & extracting file http://tennis-data.co.uk/2011w/2011.zip\n",
            "INFO:root:downloading & extracting file http://tennis-data.co.uk/2012w/2012.zip\n",
            "INFO:root:downloading & extracting file http://tennis-data.co.uk/2013w/2013.zip\n",
            "INFO:root:downloading & extracting file http://tennis-data.co.uk/2014w/2014.zip\n",
            "INFO:root:downloading & extracting file http://tennis-data.co.uk/2015w/2015.zip\n",
            "INFO:root:downloading & extracting file http://tennis-data.co.uk/2016w/2016.zip\n",
            "INFO:root:downloading & extracting file http://tennis-data.co.uk/2017w/2017.zip\n",
            "INFO:root:downloading & extracting file http://tennis-data.co.uk/2018w/2018.zip\n",
            "/usr/local/lib/python3.6/dist-packages/ipykernel_launcher.py:22: FutureWarning: Sorting because non-concatenation axis is not aligned. A future version\n",
            "of pandas will change to not sort by default.\n",
            "\n",
            "To accept the future behavior, pass 'sort=False'.\n",
            "\n",
            "To retain the current behavior and silence the warning, pass 'sort=True'.\n",
            "\n",
            "/usr/local/lib/python3.6/dist-packages/ipykernel_launcher.py:23: FutureWarning: Sorting because non-concatenation axis is not aligned. A future version\n",
            "of pandas will change to not sort by default.\n",
            "\n",
            "To accept the future behavior, pass 'sort=False'.\n",
            "\n",
            "To retain the current behavior and silence the warning, pass 'sort=True'.\n",
            "\n",
            "INFO:root:52298 matches ATP in df_atp\n",
            "INFO:root:29581 matches WTA in df_wta\n"
          ],
          "name": "stderr"
        }
      ]
    },
    {
      "cell_type": "markdown",
      "metadata": {
        "id": "iPj-c92VYuDB",
        "colab_type": "text"
      },
      "source": [
        "## Exploratory Data Analysis"
      ]
    },
    {
      "cell_type": "markdown",
      "metadata": {
        "id": "Aii2vEdrjn1N",
        "colab_type": "text"
      },
      "source": [
        "## Part 1: Answer the questions\n",
        "\n",
        "\n",
        "\n"
      ]
    },
    {
      "cell_type": "markdown",
      "metadata": {
        "id": "D0ly6CBSqrzC",
        "colab_type": "text"
      },
      "source": [
        "Firstly, we will respond to some question:"
      ]
    },
    {
      "cell_type": "markdown",
      "metadata": {
        "id": "dtE_t7V9qvTB",
        "colab_type": "text"
      },
      "source": [
        "Quick exploration of the 'Date' variable"
      ]
    },
    {
      "cell_type": "code",
      "metadata": {
        "id": "bOgKrwQm-LT4",
        "colab_type": "code",
        "outputId": "bd990462-bd7d-48b0-bb8e-763ccf54bb30",
        "colab": {
          "base_uri": "https://localhost:8080/",
          "height": 136
        }
      },
      "source": [
        "df_atp['Date'].describe()"
      ],
      "execution_count": 0,
      "outputs": [
        {
          "output_type": "execute_result",
          "data": {
            "text/plain": [
              "count                   52298\n",
              "unique                   4650\n",
              "top       2000-08-28 00:00:00\n",
              "freq                      127\n",
              "first     2000-01-03 00:00:00\n",
              "last      2018-11-18 00:00:00\n",
              "Name: Date, dtype: object"
            ]
          },
          "metadata": {
            "tags": []
          },
          "execution_count": 291
        }
      ]
    },
    {
      "cell_type": "markdown",
      "metadata": {
        "id": "QiHRbpAfJWPA",
        "colab_type": "text"
      },
      "source": [
        "Looking at the tail of the dataset"
      ]
    },
    {
      "cell_type": "code",
      "metadata": {
        "id": "PMhMgTPkJG0f",
        "colab_type": "code",
        "outputId": "6b47aa2b-c0dd-4bbd-b656-65c2567ec32e",
        "colab": {
          "base_uri": "https://localhost:8080/",
          "height": 230
        }
      },
      "source": [
        "df_atp.tail(3)"
      ],
      "execution_count": 0,
      "outputs": [
        {
          "output_type": "execute_result",
          "data": {
            "text/html": [
              "<div>\n",
              "<style scoped>\n",
              "    .dataframe tbody tr th:only-of-type {\n",
              "        vertical-align: middle;\n",
              "    }\n",
              "\n",
              "    .dataframe tbody tr th {\n",
              "        vertical-align: top;\n",
              "    }\n",
              "\n",
              "    .dataframe thead th {\n",
              "        text-align: right;\n",
              "    }\n",
              "</style>\n",
              "<table border=\"1\" class=\"dataframe\">\n",
              "  <thead>\n",
              "    <tr style=\"text-align: right;\">\n",
              "      <th></th>\n",
              "      <th>ATP</th>\n",
              "      <th>AvgL</th>\n",
              "      <th>AvgW</th>\n",
              "      <th>B&amp;WL</th>\n",
              "      <th>B&amp;WW</th>\n",
              "      <th>B365L</th>\n",
              "      <th>B365W</th>\n",
              "      <th>Best of</th>\n",
              "      <th>CBL</th>\n",
              "      <th>CBW</th>\n",
              "      <th>Comment</th>\n",
              "      <th>Court</th>\n",
              "      <th>Date</th>\n",
              "      <th>EXL</th>\n",
              "      <th>EXW</th>\n",
              "      <th>GBL</th>\n",
              "      <th>GBW</th>\n",
              "      <th>IWL</th>\n",
              "      <th>IWW</th>\n",
              "      <th>L1</th>\n",
              "      <th>L2</th>\n",
              "      <th>L3</th>\n",
              "      <th>L4</th>\n",
              "      <th>L5</th>\n",
              "      <th>LBL</th>\n",
              "      <th>LBW</th>\n",
              "      <th>LPts</th>\n",
              "      <th>LRank</th>\n",
              "      <th>Location</th>\n",
              "      <th>Loser</th>\n",
              "      <th>Lsets</th>\n",
              "      <th>MaxL</th>\n",
              "      <th>MaxW</th>\n",
              "      <th>PSL</th>\n",
              "      <th>PSW</th>\n",
              "      <th>Round</th>\n",
              "      <th>SBL</th>\n",
              "      <th>SBW</th>\n",
              "      <th>SJL</th>\n",
              "      <th>SJW</th>\n",
              "      <th>Series</th>\n",
              "      <th>Surface</th>\n",
              "      <th>Tournament</th>\n",
              "      <th>UBL</th>\n",
              "      <th>UBW</th>\n",
              "      <th>W1</th>\n",
              "      <th>W2</th>\n",
              "      <th>W3</th>\n",
              "      <th>W4</th>\n",
              "      <th>W5</th>\n",
              "      <th>WPts</th>\n",
              "      <th>WRank</th>\n",
              "      <th>Winner</th>\n",
              "      <th>Wsets</th>\n",
              "    </tr>\n",
              "  </thead>\n",
              "  <tbody>\n",
              "    <tr>\n",
              "      <th>52295</th>\n",
              "      <td>67</td>\n",
              "      <td>1.38</td>\n",
              "      <td>3.14</td>\n",
              "      <td>NaN</td>\n",
              "      <td>NaN</td>\n",
              "      <td>1.36</td>\n",
              "      <td>3.20</td>\n",
              "      <td>3</td>\n",
              "      <td>NaN</td>\n",
              "      <td>NaN</td>\n",
              "      <td>Completed</td>\n",
              "      <td>Indoor</td>\n",
              "      <td>2018-11-17</td>\n",
              "      <td>1.42</td>\n",
              "      <td>3.2</td>\n",
              "      <td>NaN</td>\n",
              "      <td>NaN</td>\n",
              "      <td>NaN</td>\n",
              "      <td>NaN</td>\n",
              "      <td>5.0</td>\n",
              "      <td>6</td>\n",
              "      <td>NaN</td>\n",
              "      <td>NaN</td>\n",
              "      <td>NaN</td>\n",
              "      <td>NaN</td>\n",
              "      <td>NaN</td>\n",
              "      <td>6020.0</td>\n",
              "      <td>3</td>\n",
              "      <td>London</td>\n",
              "      <td>Federer R.</td>\n",
              "      <td>0</td>\n",
              "      <td>1.45</td>\n",
              "      <td>3.40</td>\n",
              "      <td>1.41</td>\n",
              "      <td>3.24</td>\n",
              "      <td>Semifinals</td>\n",
              "      <td>NaN</td>\n",
              "      <td>NaN</td>\n",
              "      <td>NaN</td>\n",
              "      <td>NaN</td>\n",
              "      <td>Masters Cup</td>\n",
              "      <td>Hard</td>\n",
              "      <td>Masters Cup</td>\n",
              "      <td>NaN</td>\n",
              "      <td>NaN</td>\n",
              "      <td>7.0</td>\n",
              "      <td>7</td>\n",
              "      <td>NaN</td>\n",
              "      <td>NaN</td>\n",
              "      <td>NaN</td>\n",
              "      <td>5085.0</td>\n",
              "      <td>5</td>\n",
              "      <td>Zverev A.</td>\n",
              "      <td>2.0</td>\n",
              "    </tr>\n",
              "    <tr>\n",
              "      <th>52296</th>\n",
              "      <td>67</td>\n",
              "      <td>6.52</td>\n",
              "      <td>1.12</td>\n",
              "      <td>NaN</td>\n",
              "      <td>NaN</td>\n",
              "      <td>7.00</td>\n",
              "      <td>1.11</td>\n",
              "      <td>3</td>\n",
              "      <td>NaN</td>\n",
              "      <td>NaN</td>\n",
              "      <td>Completed</td>\n",
              "      <td>Indoor</td>\n",
              "      <td>2018-11-17</td>\n",
              "      <td>7.00</td>\n",
              "      <td>1.14</td>\n",
              "      <td>NaN</td>\n",
              "      <td>NaN</td>\n",
              "      <td>NaN</td>\n",
              "      <td>NaN</td>\n",
              "      <td>2.0</td>\n",
              "      <td>2</td>\n",
              "      <td>NaN</td>\n",
              "      <td>NaN</td>\n",
              "      <td>NaN</td>\n",
              "      <td>NaN</td>\n",
              "      <td>NaN</td>\n",
              "      <td>4310.0</td>\n",
              "      <td>6</td>\n",
              "      <td>London</td>\n",
              "      <td>Anderson K.</td>\n",
              "      <td>0</td>\n",
              "      <td>7.72</td>\n",
              "      <td>1.15</td>\n",
              "      <td>7.72</td>\n",
              "      <td>1.12</td>\n",
              "      <td>Semifinals</td>\n",
              "      <td>NaN</td>\n",
              "      <td>NaN</td>\n",
              "      <td>NaN</td>\n",
              "      <td>NaN</td>\n",
              "      <td>Masters Cup</td>\n",
              "      <td>Hard</td>\n",
              "      <td>Masters Cup</td>\n",
              "      <td>NaN</td>\n",
              "      <td>NaN</td>\n",
              "      <td>6.0</td>\n",
              "      <td>6</td>\n",
              "      <td>NaN</td>\n",
              "      <td>NaN</td>\n",
              "      <td>NaN</td>\n",
              "      <td>8045.0</td>\n",
              "      <td>1</td>\n",
              "      <td>Djokovic N.</td>\n",
              "      <td>2.0</td>\n",
              "    </tr>\n",
              "    <tr>\n",
              "      <th>52297</th>\n",
              "      <td>67</td>\n",
              "      <td>1.15</td>\n",
              "      <td>5.69</td>\n",
              "      <td>NaN</td>\n",
              "      <td>NaN</td>\n",
              "      <td>1.14</td>\n",
              "      <td>5.50</td>\n",
              "      <td>3</td>\n",
              "      <td>NaN</td>\n",
              "      <td>NaN</td>\n",
              "      <td>Completed</td>\n",
              "      <td>Indoor</td>\n",
              "      <td>2018-11-18</td>\n",
              "      <td>1.17</td>\n",
              "      <td>6</td>\n",
              "      <td>NaN</td>\n",
              "      <td>NaN</td>\n",
              "      <td>NaN</td>\n",
              "      <td>NaN</td>\n",
              "      <td>4.0</td>\n",
              "      <td>3</td>\n",
              "      <td>NaN</td>\n",
              "      <td>NaN</td>\n",
              "      <td>NaN</td>\n",
              "      <td>NaN</td>\n",
              "      <td>NaN</td>\n",
              "      <td>8045.0</td>\n",
              "      <td>1</td>\n",
              "      <td>London</td>\n",
              "      <td>Djokovic N.</td>\n",
              "      <td>0</td>\n",
              "      <td>1.22</td>\n",
              "      <td>6.36</td>\n",
              "      <td>1.16</td>\n",
              "      <td>6.36</td>\n",
              "      <td>The Final</td>\n",
              "      <td>NaN</td>\n",
              "      <td>NaN</td>\n",
              "      <td>NaN</td>\n",
              "      <td>NaN</td>\n",
              "      <td>Masters Cup</td>\n",
              "      <td>Hard</td>\n",
              "      <td>Masters Cup</td>\n",
              "      <td>NaN</td>\n",
              "      <td>NaN</td>\n",
              "      <td>6.0</td>\n",
              "      <td>6</td>\n",
              "      <td>NaN</td>\n",
              "      <td>NaN</td>\n",
              "      <td>NaN</td>\n",
              "      <td>5085.0</td>\n",
              "      <td>5</td>\n",
              "      <td>Zverev A.</td>\n",
              "      <td>2.0</td>\n",
              "    </tr>\n",
              "  </tbody>\n",
              "</table>\n",
              "</div>"
            ],
            "text/plain": [
              "       ATP  AvgL  AvgW  B&WL  B&WW  ...  W5    WPts  WRank       Winner  Wsets\n",
              "52295   67  1.38  3.14   NaN   NaN  ... NaN  5085.0      5    Zverev A.    2.0\n",
              "52296   67  6.52  1.12   NaN   NaN  ... NaN  8045.0      1  Djokovic N.    2.0\n",
              "52297   67  1.15  5.69   NaN   NaN  ... NaN  5085.0      5    Zverev A.    2.0\n",
              "\n",
              "[3 rows x 54 columns]"
            ]
          },
          "metadata": {
            "tags": []
          },
          "execution_count": 292
        }
      ]
    },
    {
      "cell_type": "markdown",
      "metadata": {
        "id": "0LV2rRmjFNMo",
        "colab_type": "text"
      },
      "source": [
        "**1.   Three ATP players with the most wins:**"
      ]
    },
    {
      "cell_type": "code",
      "metadata": {
        "id": "eaOJMadJYuDC",
        "colab_type": "code",
        "outputId": "2d77008e-f7de-4df7-d656-a233fcc692e9",
        "colab": {
          "base_uri": "https://localhost:8080/",
          "height": 102
        }
      },
      "source": [
        "# List of the ATP players\n",
        "Winners= df_atp.groupby(\"Winner\").size()\n",
        "ThreeWinners = Winners.sort_values(ascending=False).head(3)\n",
        "print('Three ATP players with the most wins:', ThreeWinners)"
      ],
      "execution_count": 0,
      "outputs": [
        {
          "output_type": "stream",
          "text": [
            "Three ATP players with the most wins: Winner\n",
            "Federer R.     1121\n",
            "Nadal R.        891\n",
            "Djokovic N.     802\n",
            "dtype: int64\n"
          ],
          "name": "stdout"
        }
      ]
    },
    {
      "cell_type": "markdown",
      "metadata": {
        "id": "y8E_Lcx-lfJ9",
        "colab_type": "text"
      },
      "source": [
        "**2. Number of sets did the player “ Federer R.” win in total**"
      ]
    },
    {
      "cell_type": "code",
      "metadata": {
        "id": "cGlKC5Tk0WRa",
        "colab_type": "code",
        "outputId": "2d11d3fd-8359-4299-a024-08b31453f639",
        "colab": {
          "base_uri": "https://localhost:8080/",
          "height": 34
        }
      },
      "source": [
        "# Find the won set number in winner match \n",
        "df_Win_Match   = df_atp[df_atp[\"Winner\"].str.contains('federer', case=False)]\n",
        "Wset_in_Win    = df_Win_Match[\"Wsets\"] \n",
        "\n",
        "# Find the won set number in loss match \n",
        "df_Loss_Match  = df_atp[df_atp[\"Loser\"].str.contains('federer', case=False)]\n",
        "Wset_in_Loss   = df_Loss_Match[\"Lsets\"] \n",
        "\n",
        "# Convert Dataframe to numeric\n",
        "Wset_in_Win    = pd.to_numeric(Wset_in_Win, errors='coerce')\n",
        "Wset_in_Loss   = pd.to_numeric(Wset_in_Loss,errors='coerce')\n",
        "\n",
        "# Total won set\n",
        "Wset_total = int(Wset_in_Win.sum()+Wset_in_Loss.sum())\n",
        "print('Number of set that Federer won in total:',Wset_total )"
      ],
      "execution_count": 0,
      "outputs": [
        {
          "output_type": "stream",
          "text": [
            "Number of set that Federer won in total: 2704\n"
          ],
          "name": "stdout"
        }
      ]
    },
    {
      "cell_type": "markdown",
      "metadata": {
        "id": "WWxexmKL5mc6",
        "colab_type": "text"
      },
      "source": [
        "**3. Number of sets did the player “Federer R.” win during the years 2016 and 2017**"
      ]
    },
    {
      "cell_type": "code",
      "metadata": {
        "id": "mIe-wBSh5q9h",
        "colab_type": "code",
        "outputId": "54067606-d251-48a8-c9ce-01ec3358a677",
        "colab": {
          "base_uri": "https://localhost:8080/",
          "height": 34
        }
      },
      "source": [
        "# winner set in 2016\n",
        "Wsets_Win_2016  = df_Win_Match[df_Win_Match[\"Date\"].dt.year == 2016][\"Wsets\"].sum()\n",
        "Wsets_Loss_2016 = df_Loss_Match[df_Loss_Match[\"Date\"].dt.year == 2016][\"Lsets\"].sum()\n",
        "Wsets_2016 = int(Wsets_Win_2016 )+int(Wsets_Loss_2016)\n",
        "\n",
        "# winner set in 2017\n",
        "Wsets_Win_2017  = df_Win_Match[df_Win_Match[\"Date\"].dt.year == 2017][\"Wsets\"].sum()\n",
        "Wsets_Loss_2017 = df_Loss_Match[df_Loss_Match[\"Date\"].dt.year == 2017][\"Lsets\"].sum()\n",
        "Wsets_2017 = int(Wsets_Win_2017 )+int(Wsets_Loss_2017)\n",
        "\n",
        "# Winnet set during 2016-2017\n",
        "Wsets_2026_to_2017 = Wsets_2016 + Wsets_2017\n",
        "print('The number of sets that Federer won during 2016 and 2017 is:',Wsets_2026_to_2017 )\n"
      ],
      "execution_count": 0,
      "outputs": [
        {
          "output_type": "stream",
          "text": [
            "The number of sets that Federer won during 2016 and 2017 is: 182\n"
          ],
          "name": "stdout"
        }
      ]
    },
    {
      "cell_type": "markdown",
      "metadata": {
        "id": "dtyFKa3f9a92",
        "colab_type": "text"
      },
      "source": [
        "**4. The percentage of victories of the winner for each match**"
      ]
    },
    {
      "cell_type": "markdown",
      "metadata": {
        "id": "WO2kAi8UZRfK",
        "colab_type": "text"
      },
      "source": [
        "Percentage of victories: per = total of win game/toal of game:"
      ]
    },
    {
      "cell_type": "code",
      "metadata": {
        "id": "OAOJ6SQP-x4j",
        "colab_type": "code",
        "outputId": "01f0f749-719e-4d7e-f3ee-1745a6e42f5c",
        "colab": {
          "base_uri": "https://localhost:8080/",
          "height": 142
        }
      },
      "source": [
        "# Re-sitting a subset win-loss of Dataframes\n",
        "Columns = df_atp.columns\n",
        "Cols_W2L = Columns[[bool(re.search(r\"([WL][1-5])\",i)) for i in Columns]]\n",
        "df_atp_sub = df_atp.loc[:,Cols_W2L]\n",
        "df_atp_sub = df_atp_sub.apply(pd.to_numeric, errors='coerce')\n",
        "df_atp_sub.head(3)"
      ],
      "execution_count": 0,
      "outputs": [
        {
          "output_type": "execute_result",
          "data": {
            "text/html": [
              "<div>\n",
              "<style scoped>\n",
              "    .dataframe tbody tr th:only-of-type {\n",
              "        vertical-align: middle;\n",
              "    }\n",
              "\n",
              "    .dataframe tbody tr th {\n",
              "        vertical-align: top;\n",
              "    }\n",
              "\n",
              "    .dataframe thead th {\n",
              "        text-align: right;\n",
              "    }\n",
              "</style>\n",
              "<table border=\"1\" class=\"dataframe\">\n",
              "  <thead>\n",
              "    <tr style=\"text-align: right;\">\n",
              "      <th></th>\n",
              "      <th>L1</th>\n",
              "      <th>L2</th>\n",
              "      <th>L3</th>\n",
              "      <th>L4</th>\n",
              "      <th>L5</th>\n",
              "      <th>W1</th>\n",
              "      <th>W2</th>\n",
              "      <th>W3</th>\n",
              "      <th>W4</th>\n",
              "      <th>W5</th>\n",
              "    </tr>\n",
              "  </thead>\n",
              "  <tbody>\n",
              "    <tr>\n",
              "      <th>0</th>\n",
              "      <td>4.0</td>\n",
              "      <td>2.0</td>\n",
              "      <td>NaN</td>\n",
              "      <td>NaN</td>\n",
              "      <td>NaN</td>\n",
              "      <td>6.0</td>\n",
              "      <td>6.0</td>\n",
              "      <td>NaN</td>\n",
              "      <td>NaN</td>\n",
              "      <td>NaN</td>\n",
              "    </tr>\n",
              "    <tr>\n",
              "      <th>1</th>\n",
              "      <td>3.0</td>\n",
              "      <td>3.0</td>\n",
              "      <td>NaN</td>\n",
              "      <td>NaN</td>\n",
              "      <td>NaN</td>\n",
              "      <td>6.0</td>\n",
              "      <td>6.0</td>\n",
              "      <td>NaN</td>\n",
              "      <td>NaN</td>\n",
              "      <td>NaN</td>\n",
              "    </tr>\n",
              "    <tr>\n",
              "      <th>2</th>\n",
              "      <td>7.0</td>\n",
              "      <td>5.0</td>\n",
              "      <td>3.0</td>\n",
              "      <td>NaN</td>\n",
              "      <td>NaN</td>\n",
              "      <td>6.0</td>\n",
              "      <td>7.0</td>\n",
              "      <td>6.0</td>\n",
              "      <td>NaN</td>\n",
              "      <td>NaN</td>\n",
              "    </tr>\n",
              "  </tbody>\n",
              "</table>\n",
              "</div>"
            ],
            "text/plain": [
              "    L1   L2   L3  L4  L5   W1   W2   W3  W4  W5\n",
              "0  4.0  2.0  NaN NaN NaN  6.0  6.0  NaN NaN NaN\n",
              "1  3.0  3.0  NaN NaN NaN  6.0  6.0  NaN NaN NaN\n",
              "2  7.0  5.0  3.0 NaN NaN  6.0  7.0  6.0 NaN NaN"
            ]
          },
          "metadata": {
            "tags": []
          },
          "execution_count": 296
        }
      ]
    },
    {
      "cell_type": "code",
      "metadata": {
        "id": "Cp7oUeJ_h3d0",
        "colab_type": "code",
        "colab": {}
      },
      "source": [
        "# Function for calculate the percentage of a player's wins\n",
        "def WinPercentage(obs):\n",
        "    \"\"\"\n",
        "    Calculate the percentage of a player's wins\n",
        "    #Arguments: observation \n",
        "    Return: Percentage of victories of the winner\n",
        "    \n",
        "    \"\"\" \n",
        "    myobs = obs.copy()\n",
        "    myobs[myobs == ' '] = np.nan\n",
        "    wins = np.nansum(myobs['W1':'W5'])\n",
        "    loses = np.nansum(myobs['L1':'L5'])\n",
        "    if wins+loses == 0:\n",
        "        return(0)\n",
        "    else:\n",
        "        per = 100*wins/(wins+loses)\n",
        "        return(per)"
      ],
      "execution_count": 0,
      "outputs": []
    },
    {
      "cell_type": "code",
      "metadata": {
        "id": "mwxc3zVmiPgM",
        "colab_type": "code",
        "outputId": "4e907ad8-56b5-4273-d17c-973f952a303a",
        "colab": {
          "base_uri": "https://localhost:8080/",
          "height": 351
        }
      },
      "source": [
        "df_win_per = df_atp_sub.apply(axis=1, func=WinPercentage)\n",
        "df_win_per = pd.DataFrame({'Wper':df_win_per})\n",
        "df_win_per.describe(include='all')"
      ],
      "execution_count": 0,
      "outputs": [
        {
          "output_type": "stream",
          "text": [
            "/usr/local/lib/python3.6/dist-packages/pandas/core/ops.py:1649: FutureWarning: elementwise comparison failed; returning scalar instead, but in the future will perform elementwise comparison\n",
            "  result = method(y)\n"
          ],
          "name": "stderr"
        },
        {
          "output_type": "execute_result",
          "data": {
            "text/html": [
              "<div>\n",
              "<style scoped>\n",
              "    .dataframe tbody tr th:only-of-type {\n",
              "        vertical-align: middle;\n",
              "    }\n",
              "\n",
              "    .dataframe tbody tr th {\n",
              "        vertical-align: top;\n",
              "    }\n",
              "\n",
              "    .dataframe thead th {\n",
              "        text-align: right;\n",
              "    }\n",
              "</style>\n",
              "<table border=\"1\" class=\"dataframe\">\n",
              "  <thead>\n",
              "    <tr style=\"text-align: right;\">\n",
              "      <th></th>\n",
              "      <th>Wper</th>\n",
              "    </tr>\n",
              "  </thead>\n",
              "  <tbody>\n",
              "    <tr>\n",
              "      <th>count</th>\n",
              "      <td>52298.000000</td>\n",
              "    </tr>\n",
              "    <tr>\n",
              "      <th>mean</th>\n",
              "      <td>61.600304</td>\n",
              "    </tr>\n",
              "    <tr>\n",
              "      <th>std</th>\n",
              "      <td>9.661224</td>\n",
              "    </tr>\n",
              "    <tr>\n",
              "      <th>min</th>\n",
              "      <td>0.000000</td>\n",
              "    </tr>\n",
              "    <tr>\n",
              "      <th>25%</th>\n",
              "      <td>56.000000</td>\n",
              "    </tr>\n",
              "    <tr>\n",
              "      <th>50%</th>\n",
              "      <td>60.000000</td>\n",
              "    </tr>\n",
              "    <tr>\n",
              "      <th>75%</th>\n",
              "      <td>66.666667</td>\n",
              "    </tr>\n",
              "    <tr>\n",
              "      <th>max</th>\n",
              "      <td>100.000000</td>\n",
              "    </tr>\n",
              "  </tbody>\n",
              "</table>\n",
              "</div>"
            ],
            "text/plain": [
              "               Wper\n",
              "count  52298.000000\n",
              "mean      61.600304\n",
              "std        9.661224\n",
              "min        0.000000\n",
              "25%       56.000000\n",
              "50%       60.000000\n",
              "75%       66.666667\n",
              "max      100.000000"
            ]
          },
          "metadata": {
            "tags": []
          },
          "execution_count": 298
        }
      ]
    },
    {
      "cell_type": "code",
      "metadata": {
        "id": "-BGnjqjfn0rl",
        "colab_type": "code",
        "outputId": "4ee3f9d6-29b5-43b9-daea-ef61f9f4ef8f",
        "colab": {
          "base_uri": "https://localhost:8080/",
          "height": 34
        }
      },
      "source": [
        "print('The percentage of victories for a winner in the past is equal in average to about', df_win_per['Wper'].mean(),'%')"
      ],
      "execution_count": 0,
      "outputs": [
        {
          "output_type": "stream",
          "text": [
            "The percentage of victories for a winner in the past is equal in average to about 61.60030397913736 %\n"
          ],
          "name": "stdout"
        }
      ]
    },
    {
      "cell_type": "markdown",
      "metadata": {
        "id": "1LIZgyq3yXve",
        "colab_type": "text"
      },
      "source": [
        "Histograms and Density Visualization"
      ]
    },
    {
      "cell_type": "code",
      "metadata": {
        "id": "boWGBdmXmCcS",
        "colab_type": "code",
        "outputId": "9271c0ee-bd04-483d-d410-918af190b689",
        "colab": {
          "base_uri": "https://localhost:8080/",
          "height": 837
        }
      },
      "source": [
        "# Import the libraries\n",
        "import matplotlib.pyplot as plt\n",
        "# matplotlib histogram\n",
        "plt.figure()\n",
        "plt.hist(df_win_per[\"Wper\"], color = 'blue', edgecolor = 'black',bins = int(180/5))\n",
        "plt.xlabel(' Wins Percentages (%)')\n",
        "plt.ylabel('Frequency')\n",
        "plt.title('Distribution of Percentages of the Winner')\n",
        "plt.show()\n",
        "import seaborn as sns\n",
        "plt.figure()\n",
        "sns.distplot(df_win_per[\"Wper\"], hist = False, kde = True,\n",
        "                 kde_kws = {'shade': True, 'linewidth': 3})\n",
        "plt.xlabel(' Wins Percentages (%)')\n",
        "plt.ylabel('Density')\n",
        "plt.title('Distribution of Wins Percentages')\n",
        "plt.show()\n",
        "\n",
        "plt.figure()\n",
        "plt.boxplot(df_win_per[\"Wper\"], positions=[0], notch=True)\n",
        "plt.ylabel('Percentage of victories of the winner')\n",
        "plt.title(\"Percentage of victories Box Plot\")\n",
        "plt.show()"
      ],
      "execution_count": 0,
      "outputs": [
        {
          "output_type": "display_data",
          "data": {
            "image/png": "[encoded data removed]",
            "text/plain": [
              "<Figure size 432x288 with 1 Axes>"
            ]
          },
          "metadata": {
            "tags": []
          }
        },
        {
          "output_type": "display_data",
          "data": {
            "image/png": "[encoded data removed]",
            "text/plain": [
              "<Figure size 432x288 with 1 Axes>"
            ]
          },
          "metadata": {
            "tags": []
          }
        },
        {
          "output_type": "display_data",
          "data": {
            "image/png": "[encoded data removed]",
            "text/plain": [
              "<Figure size 432x288 with 1 Axes>"
            ]
          },
          "metadata": {
            "tags": []
          }
        }
      ]
    },
    {
      "cell_type": "markdown",
      "metadata": {
        "id": "-_qmNWAZ6IKD",
        "colab_type": "text"
      },
      "source": [
        "The percentage of victories for a winner in the past is equal in average to about 62% which makes sense since its > 50%. We notice that match winners tend to have more prior wins then their opponent."
      ]
    },
    {
      "cell_type": "markdown",
      "metadata": {
        "id": "71_DjKh39dkU",
        "colab_type": "text"
      },
      "source": [
        "## Part 2: Prediction of ATP tennis game during the year 2017"
      ]
    },
    {
      "cell_type": "markdown",
      "metadata": {
        "id": "cUfWKZcN-azm",
        "colab_type": "text"
      },
      "source": [
        "In the second part, we use the Machine Learning to predict the outcome for each ATP tennis game during the year 2017. To do this, we follow the steps:\n",
        "\n",
        "1-- Data preparation and extraction\n",
        "\n",
        "2-- Modeling\n",
        "\n",
        "3-- Evaluation the model and choose the best model."
      ]
    },
    {
      "cell_type": "code",
      "metadata": {
        "id": "3OWvQ765G5Cd",
        "colab_type": "code",
        "outputId": "ba795389-2286-4573-c91e-da837eaac899",
        "colab": {
          "base_uri": "https://localhost:8080/",
          "height": 216
        }
      },
      "source": [
        "df_atp.head(2)"
      ],
      "execution_count": 0,
      "outputs": [
        {
          "output_type": "execute_result",
          "data": {
            "text/html": [
              "<div>\n",
              "<style scoped>\n",
              "    .dataframe tbody tr th:only-of-type {\n",
              "        vertical-align: middle;\n",
              "    }\n",
              "\n",
              "    .dataframe tbody tr th {\n",
              "        vertical-align: top;\n",
              "    }\n",
              "\n",
              "    .dataframe thead th {\n",
              "        text-align: right;\n",
              "    }\n",
              "</style>\n",
              "<table border=\"1\" class=\"dataframe\">\n",
              "  <thead>\n",
              "    <tr style=\"text-align: right;\">\n",
              "      <th></th>\n",
              "      <th>ATP</th>\n",
              "      <th>AvgL</th>\n",
              "      <th>AvgW</th>\n",
              "      <th>B&amp;WL</th>\n",
              "      <th>B&amp;WW</th>\n",
              "      <th>B365L</th>\n",
              "      <th>B365W</th>\n",
              "      <th>Best of</th>\n",
              "      <th>CBL</th>\n",
              "      <th>CBW</th>\n",
              "      <th>Comment</th>\n",
              "      <th>Court</th>\n",
              "      <th>Date</th>\n",
              "      <th>EXL</th>\n",
              "      <th>EXW</th>\n",
              "      <th>GBL</th>\n",
              "      <th>GBW</th>\n",
              "      <th>IWL</th>\n",
              "      <th>IWW</th>\n",
              "      <th>L1</th>\n",
              "      <th>L2</th>\n",
              "      <th>L3</th>\n",
              "      <th>L4</th>\n",
              "      <th>L5</th>\n",
              "      <th>LBL</th>\n",
              "      <th>LBW</th>\n",
              "      <th>LPts</th>\n",
              "      <th>LRank</th>\n",
              "      <th>Location</th>\n",
              "      <th>Loser</th>\n",
              "      <th>Lsets</th>\n",
              "      <th>MaxL</th>\n",
              "      <th>MaxW</th>\n",
              "      <th>PSL</th>\n",
              "      <th>PSW</th>\n",
              "      <th>Round</th>\n",
              "      <th>SBL</th>\n",
              "      <th>SBW</th>\n",
              "      <th>SJL</th>\n",
              "      <th>SJW</th>\n",
              "      <th>Series</th>\n",
              "      <th>Surface</th>\n",
              "      <th>Tournament</th>\n",
              "      <th>UBL</th>\n",
              "      <th>UBW</th>\n",
              "      <th>W1</th>\n",
              "      <th>W2</th>\n",
              "      <th>W3</th>\n",
              "      <th>W4</th>\n",
              "      <th>W5</th>\n",
              "      <th>WPts</th>\n",
              "      <th>WRank</th>\n",
              "      <th>Winner</th>\n",
              "      <th>Wsets</th>\n",
              "    </tr>\n",
              "  </thead>\n",
              "  <tbody>\n",
              "    <tr>\n",
              "      <th>0</th>\n",
              "      <td>1</td>\n",
              "      <td>NaN</td>\n",
              "      <td>NaN</td>\n",
              "      <td>NaN</td>\n",
              "      <td>NaN</td>\n",
              "      <td>NaN</td>\n",
              "      <td>NaN</td>\n",
              "      <td>3</td>\n",
              "      <td>NaN</td>\n",
              "      <td>NaN</td>\n",
              "      <td>Completed</td>\n",
              "      <td>Outdoor</td>\n",
              "      <td>2000-01-03</td>\n",
              "      <td>NaN</td>\n",
              "      <td>NaN</td>\n",
              "      <td>NaN</td>\n",
              "      <td>NaN</td>\n",
              "      <td>NaN</td>\n",
              "      <td>NaN</td>\n",
              "      <td>4.0</td>\n",
              "      <td>2</td>\n",
              "      <td>NaN</td>\n",
              "      <td>NaN</td>\n",
              "      <td>NaN</td>\n",
              "      <td>NaN</td>\n",
              "      <td>NaN</td>\n",
              "      <td>NaN</td>\n",
              "      <td>77</td>\n",
              "      <td>Adelaide</td>\n",
              "      <td>Ljubicic I.</td>\n",
              "      <td>0</td>\n",
              "      <td>NaN</td>\n",
              "      <td>NaN</td>\n",
              "      <td>NaN</td>\n",
              "      <td>NaN</td>\n",
              "      <td>1st Round</td>\n",
              "      <td>NaN</td>\n",
              "      <td>NaN</td>\n",
              "      <td>NaN</td>\n",
              "      <td>NaN</td>\n",
              "      <td>International</td>\n",
              "      <td>Hard</td>\n",
              "      <td>Australian Hardcourt Championships</td>\n",
              "      <td>NaN</td>\n",
              "      <td>NaN</td>\n",
              "      <td>6.0</td>\n",
              "      <td>6</td>\n",
              "      <td>NaN</td>\n",
              "      <td>NaN</td>\n",
              "      <td>NaN</td>\n",
              "      <td>NaN</td>\n",
              "      <td>63</td>\n",
              "      <td>Dosedel S.</td>\n",
              "      <td>2.0</td>\n",
              "    </tr>\n",
              "    <tr>\n",
              "      <th>1</th>\n",
              "      <td>1</td>\n",
              "      <td>NaN</td>\n",
              "      <td>NaN</td>\n",
              "      <td>NaN</td>\n",
              "      <td>NaN</td>\n",
              "      <td>NaN</td>\n",
              "      <td>NaN</td>\n",
              "      <td>3</td>\n",
              "      <td>NaN</td>\n",
              "      <td>NaN</td>\n",
              "      <td>Completed</td>\n",
              "      <td>Outdoor</td>\n",
              "      <td>2000-01-03</td>\n",
              "      <td>NaN</td>\n",
              "      <td>NaN</td>\n",
              "      <td>NaN</td>\n",
              "      <td>NaN</td>\n",
              "      <td>NaN</td>\n",
              "      <td>NaN</td>\n",
              "      <td>3.0</td>\n",
              "      <td>3</td>\n",
              "      <td>NaN</td>\n",
              "      <td>NaN</td>\n",
              "      <td>NaN</td>\n",
              "      <td>NaN</td>\n",
              "      <td>NaN</td>\n",
              "      <td>NaN</td>\n",
              "      <td>56</td>\n",
              "      <td>Adelaide</td>\n",
              "      <td>Clement A.</td>\n",
              "      <td>0</td>\n",
              "      <td>NaN</td>\n",
              "      <td>NaN</td>\n",
              "      <td>NaN</td>\n",
              "      <td>NaN</td>\n",
              "      <td>1st Round</td>\n",
              "      <td>NaN</td>\n",
              "      <td>NaN</td>\n",
              "      <td>NaN</td>\n",
              "      <td>NaN</td>\n",
              "      <td>International</td>\n",
              "      <td>Hard</td>\n",
              "      <td>Australian Hardcourt Championships</td>\n",
              "      <td>NaN</td>\n",
              "      <td>NaN</td>\n",
              "      <td>6.0</td>\n",
              "      <td>6</td>\n",
              "      <td>NaN</td>\n",
              "      <td>NaN</td>\n",
              "      <td>NaN</td>\n",
              "      <td>NaN</td>\n",
              "      <td>5</td>\n",
              "      <td>Enqvist T.</td>\n",
              "      <td>2.0</td>\n",
              "    </tr>\n",
              "  </tbody>\n",
              "</table>\n",
              "</div>"
            ],
            "text/plain": [
              "   ATP  AvgL  AvgW  B&WL  B&WW  B365L  ...  W4  W5  WPts  WRank      Winner Wsets\n",
              "0    1   NaN   NaN   NaN   NaN    NaN  ... NaN NaN   NaN     63  Dosedel S.   2.0\n",
              "1    1   NaN   NaN   NaN   NaN    NaN  ... NaN NaN   NaN      5  Enqvist T.   2.0\n",
              "\n",
              "[2 rows x 54 columns]"
            ]
          },
          "metadata": {
            "tags": []
          },
          "execution_count": 301
        }
      ]
    },
    {
      "cell_type": "markdown",
      "metadata": {
        "id": "ScZYLWqv93hH",
        "colab_type": "text"
      },
      "source": [
        "**1. Data preparation and feature engineering**"
      ]
    },
    {
      "cell_type": "code",
      "metadata": {
        "id": "ViJ5iz9qrBTD",
        "colab_type": "code",
        "outputId": "4020e0d4-b6a6-409d-a35b-f0763bd45ad0",
        "colab": {
          "base_uri": "https://localhost:8080/",
          "height": 574
        }
      },
      "source": [
        "df_atp.describe(include='all')"
      ],
      "execution_count": 0,
      "outputs": [
        {
          "output_type": "execute_result",
          "data": {
            "text/html": [
              "<div>\n",
              "<style scoped>\n",
              "    .dataframe tbody tr th:only-of-type {\n",
              "        vertical-align: middle;\n",
              "    }\n",
              "\n",
              "    .dataframe tbody tr th {\n",
              "        vertical-align: top;\n",
              "    }\n",
              "\n",
              "    .dataframe thead th {\n",
              "        text-align: right;\n",
              "    }\n",
              "</style>\n",
              "<table border=\"1\" class=\"dataframe\">\n",
              "  <thead>\n",
              "    <tr style=\"text-align: right;\">\n",
              "      <th></th>\n",
              "      <th>ATP</th>\n",
              "      <th>AvgL</th>\n",
              "      <th>AvgW</th>\n",
              "      <th>B&amp;WL</th>\n",
              "      <th>B&amp;WW</th>\n",
              "      <th>B365L</th>\n",
              "      <th>B365W</th>\n",
              "      <th>Best of</th>\n",
              "      <th>CBL</th>\n",
              "      <th>CBW</th>\n",
              "      <th>Comment</th>\n",
              "      <th>Court</th>\n",
              "      <th>Date</th>\n",
              "      <th>EXL</th>\n",
              "      <th>EXW</th>\n",
              "      <th>GBL</th>\n",
              "      <th>GBW</th>\n",
              "      <th>IWL</th>\n",
              "      <th>IWW</th>\n",
              "      <th>L1</th>\n",
              "      <th>L2</th>\n",
              "      <th>L3</th>\n",
              "      <th>L4</th>\n",
              "      <th>L5</th>\n",
              "      <th>LBL</th>\n",
              "      <th>LBW</th>\n",
              "      <th>LPts</th>\n",
              "      <th>LRank</th>\n",
              "      <th>Location</th>\n",
              "      <th>Loser</th>\n",
              "      <th>Lsets</th>\n",
              "      <th>MaxL</th>\n",
              "      <th>MaxW</th>\n",
              "      <th>PSL</th>\n",
              "      <th>PSW</th>\n",
              "      <th>Round</th>\n",
              "      <th>SBL</th>\n",
              "      <th>SBW</th>\n",
              "      <th>SJL</th>\n",
              "      <th>SJW</th>\n",
              "      <th>Series</th>\n",
              "      <th>Surface</th>\n",
              "      <th>Tournament</th>\n",
              "      <th>UBL</th>\n",
              "      <th>UBW</th>\n",
              "      <th>W1</th>\n",
              "      <th>W2</th>\n",
              "      <th>W3</th>\n",
              "      <th>W4</th>\n",
              "      <th>W5</th>\n",
              "      <th>WPts</th>\n",
              "      <th>WRank</th>\n",
              "      <th>Winner</th>\n",
              "      <th>Wsets</th>\n",
              "    </tr>\n",
              "  </thead>\n",
              "  <tbody>\n",
              "    <tr>\n",
              "      <th>count</th>\n",
              "      <td>52298.000000</td>\n",
              "      <td>22745.000000</td>\n",
              "      <td>22745.000000</td>\n",
              "      <td>1097.000000</td>\n",
              "      <td>1097.000000</td>\n",
              "      <td>43666.000000</td>\n",
              "      <td>43643.000000</td>\n",
              "      <td>52298.000000</td>\n",
              "      <td>17506.000000</td>\n",
              "      <td>17506.000000</td>\n",
              "      <td>52298</td>\n",
              "      <td>52298</td>\n",
              "      <td>52298</td>\n",
              "      <td>39416.000000</td>\n",
              "      <td>39411.00</td>\n",
              "      <td>5055.000000</td>\n",
              "      <td>5055.000000</td>\n",
              "      <td>13358.000000</td>\n",
              "      <td>13358.000000</td>\n",
              "      <td>52037.000000</td>\n",
              "      <td>51527.0</td>\n",
              "      <td>24168.0</td>\n",
              "      <td>4731.000000</td>\n",
              "      <td>1791.000000</td>\n",
              "      <td>28142.000000</td>\n",
              "      <td>28131.000000</td>\n",
              "      <td>36035.000000</td>\n",
              "      <td>52220.0</td>\n",
              "      <td>52298</td>\n",
              "      <td>52298</td>\n",
              "      <td>52073.0</td>\n",
              "      <td>22745.000000</td>\n",
              "      <td>22745.000000</td>\n",
              "      <td>37339.000000</td>\n",
              "      <td>37339.000000</td>\n",
              "      <td>52298</td>\n",
              "      <td>5424.000000</td>\n",
              "      <td>5424.000000</td>\n",
              "      <td>15579.000000</td>\n",
              "      <td>15572.000000</td>\n",
              "      <td>52298</td>\n",
              "      <td>52298</td>\n",
              "      <td>52298</td>\n",
              "      <td>10671.000000</td>\n",
              "      <td>10671.000000</td>\n",
              "      <td>52035.000000</td>\n",
              "      <td>51526.0</td>\n",
              "      <td>24169.0</td>\n",
              "      <td>4731.000000</td>\n",
              "      <td>1791.000000</td>\n",
              "      <td>36094.000000</td>\n",
              "      <td>52283.0</td>\n",
              "      <td>52298</td>\n",
              "      <td>52074.000000</td>\n",
              "    </tr>\n",
              "    <tr>\n",
              "      <th>unique</th>\n",
              "      <td>NaN</td>\n",
              "      <td>NaN</td>\n",
              "      <td>NaN</td>\n",
              "      <td>NaN</td>\n",
              "      <td>NaN</td>\n",
              "      <td>NaN</td>\n",
              "      <td>NaN</td>\n",
              "      <td>NaN</td>\n",
              "      <td>NaN</td>\n",
              "      <td>NaN</td>\n",
              "      <td>5</td>\n",
              "      <td>2</td>\n",
              "      <td>4650</td>\n",
              "      <td>NaN</td>\n",
              "      <td>356.00</td>\n",
              "      <td>NaN</td>\n",
              "      <td>NaN</td>\n",
              "      <td>NaN</td>\n",
              "      <td>NaN</td>\n",
              "      <td>NaN</td>\n",
              "      <td>9.0</td>\n",
              "      <td>9.0</td>\n",
              "      <td>NaN</td>\n",
              "      <td>NaN</td>\n",
              "      <td>NaN</td>\n",
              "      <td>NaN</td>\n",
              "      <td>NaN</td>\n",
              "      <td>943.0</td>\n",
              "      <td>115</td>\n",
              "      <td>1483</td>\n",
              "      <td>4.0</td>\n",
              "      <td>NaN</td>\n",
              "      <td>NaN</td>\n",
              "      <td>NaN</td>\n",
              "      <td>NaN</td>\n",
              "      <td>8</td>\n",
              "      <td>NaN</td>\n",
              "      <td>NaN</td>\n",
              "      <td>NaN</td>\n",
              "      <td>NaN</td>\n",
              "      <td>8</td>\n",
              "      <td>4</td>\n",
              "      <td>214</td>\n",
              "      <td>NaN</td>\n",
              "      <td>NaN</td>\n",
              "      <td>NaN</td>\n",
              "      <td>9.0</td>\n",
              "      <td>9.0</td>\n",
              "      <td>NaN</td>\n",
              "      <td>NaN</td>\n",
              "      <td>NaN</td>\n",
              "      <td>604.0</td>\n",
              "      <td>948</td>\n",
              "      <td>NaN</td>\n",
              "    </tr>\n",
              "    <tr>\n",
              "      <th>top</th>\n",
              "      <td>NaN</td>\n",
              "      <td>NaN</td>\n",
              "      <td>NaN</td>\n",
              "      <td>NaN</td>\n",
              "      <td>NaN</td>\n",
              "      <td>NaN</td>\n",
              "      <td>NaN</td>\n",
              "      <td>NaN</td>\n",
              "      <td>NaN</td>\n",
              "      <td>NaN</td>\n",
              "      <td>Completed</td>\n",
              "      <td>Outdoor</td>\n",
              "      <td>2000-08-28 00:00:00</td>\n",
              "      <td>NaN</td>\n",
              "      <td>1.35</td>\n",
              "      <td>NaN</td>\n",
              "      <td>NaN</td>\n",
              "      <td>NaN</td>\n",
              "      <td>NaN</td>\n",
              "      <td>NaN</td>\n",
              "      <td>6.0</td>\n",
              "      <td>4.0</td>\n",
              "      <td>NaN</td>\n",
              "      <td>NaN</td>\n",
              "      <td>NaN</td>\n",
              "      <td>NaN</td>\n",
              "      <td>NaN</td>\n",
              "      <td>46.0</td>\n",
              "      <td>Paris</td>\n",
              "      <td>Lopez F.</td>\n",
              "      <td>0.0</td>\n",
              "      <td>NaN</td>\n",
              "      <td>NaN</td>\n",
              "      <td>NaN</td>\n",
              "      <td>NaN</td>\n",
              "      <td>1st Round</td>\n",
              "      <td>NaN</td>\n",
              "      <td>NaN</td>\n",
              "      <td>NaN</td>\n",
              "      <td>NaN</td>\n",
              "      <td>International</td>\n",
              "      <td>Hard</td>\n",
              "      <td>US Open</td>\n",
              "      <td>NaN</td>\n",
              "      <td>NaN</td>\n",
              "      <td>NaN</td>\n",
              "      <td>6.0</td>\n",
              "      <td>6.0</td>\n",
              "      <td>NaN</td>\n",
              "      <td>NaN</td>\n",
              "      <td>NaN</td>\n",
              "      <td>1.0</td>\n",
              "      <td>Federer R.</td>\n",
              "      <td>NaN</td>\n",
              "    </tr>\n",
              "    <tr>\n",
              "      <th>freq</th>\n",
              "      <td>NaN</td>\n",
              "      <td>NaN</td>\n",
              "      <td>NaN</td>\n",
              "      <td>NaN</td>\n",
              "      <td>NaN</td>\n",
              "      <td>NaN</td>\n",
              "      <td>NaN</td>\n",
              "      <td>NaN</td>\n",
              "      <td>NaN</td>\n",
              "      <td>NaN</td>\n",
              "      <td>50358</td>\n",
              "      <td>42941</td>\n",
              "      <td>127</td>\n",
              "      <td>NaN</td>\n",
              "      <td>1321.00</td>\n",
              "      <td>NaN</td>\n",
              "      <td>NaN</td>\n",
              "      <td>NaN</td>\n",
              "      <td>NaN</td>\n",
              "      <td>NaN</td>\n",
              "      <td>12516.0</td>\n",
              "      <td>5412.0</td>\n",
              "      <td>NaN</td>\n",
              "      <td>NaN</td>\n",
              "      <td>NaN</td>\n",
              "      <td>NaN</td>\n",
              "      <td>NaN</td>\n",
              "      <td>464.0</td>\n",
              "      <td>3306</td>\n",
              "      <td>415</td>\n",
              "      <td>32647.0</td>\n",
              "      <td>NaN</td>\n",
              "      <td>NaN</td>\n",
              "      <td>NaN</td>\n",
              "      <td>NaN</td>\n",
              "      <td>24212</td>\n",
              "      <td>NaN</td>\n",
              "      <td>NaN</td>\n",
              "      <td>NaN</td>\n",
              "      <td>NaN</td>\n",
              "      <td>12204</td>\n",
              "      <td>27716</td>\n",
              "      <td>2413</td>\n",
              "      <td>NaN</td>\n",
              "      <td>NaN</td>\n",
              "      <td>NaN</td>\n",
              "      <td>33924.0</td>\n",
              "      <td>17187.0</td>\n",
              "      <td>NaN</td>\n",
              "      <td>NaN</td>\n",
              "      <td>NaN</td>\n",
              "      <td>1172.0</td>\n",
              "      <td>1121</td>\n",
              "      <td>NaN</td>\n",
              "    </tr>\n",
              "    <tr>\n",
              "      <th>first</th>\n",
              "      <td>NaN</td>\n",
              "      <td>NaN</td>\n",
              "      <td>NaN</td>\n",
              "      <td>NaN</td>\n",
              "      <td>NaN</td>\n",
              "      <td>NaN</td>\n",
              "      <td>NaN</td>\n",
              "      <td>NaN</td>\n",
              "      <td>NaN</td>\n",
              "      <td>NaN</td>\n",
              "      <td>NaN</td>\n",
              "      <td>NaN</td>\n",
              "      <td>2000-01-03 00:00:00</td>\n",
              "      <td>NaN</td>\n",
              "      <td>NaN</td>\n",
              "      <td>NaN</td>\n",
              "      <td>NaN</td>\n",
              "      <td>NaN</td>\n",
              "      <td>NaN</td>\n",
              "      <td>NaN</td>\n",
              "      <td>NaN</td>\n",
              "      <td>NaN</td>\n",
              "      <td>NaN</td>\n",
              "      <td>NaN</td>\n",
              "      <td>NaN</td>\n",
              "      <td>NaN</td>\n",
              "      <td>NaN</td>\n",
              "      <td>NaN</td>\n",
              "      <td>NaN</td>\n",
              "      <td>NaN</td>\n",
              "      <td>NaN</td>\n",
              "      <td>NaN</td>\n",
              "      <td>NaN</td>\n",
              "      <td>NaN</td>\n",
              "      <td>NaN</td>\n",
              "      <td>NaN</td>\n",
              "      <td>NaN</td>\n",
              "      <td>NaN</td>\n",
              "      <td>NaN</td>\n",
              "      <td>NaN</td>\n",
              "      <td>NaN</td>\n",
              "      <td>NaN</td>\n",
              "      <td>NaN</td>\n",
              "      <td>NaN</td>\n",
              "      <td>NaN</td>\n",
              "      <td>NaN</td>\n",
              "      <td>NaN</td>\n",
              "      <td>NaN</td>\n",
              "      <td>NaN</td>\n",
              "      <td>NaN</td>\n",
              "      <td>NaN</td>\n",
              "      <td>NaN</td>\n",
              "      <td>NaN</td>\n",
              "      <td>NaN</td>\n",
              "    </tr>\n",
              "    <tr>\n",
              "      <th>last</th>\n",
              "      <td>NaN</td>\n",
              "      <td>NaN</td>\n",
              "      <td>NaN</td>\n",
              "      <td>NaN</td>\n",
              "      <td>NaN</td>\n",
              "      <td>NaN</td>\n",
              "      <td>NaN</td>\n",
              "      <td>NaN</td>\n",
              "      <td>NaN</td>\n",
              "      <td>NaN</td>\n",
              "      <td>NaN</td>\n",
              "      <td>NaN</td>\n",
              "      <td>2018-11-18 00:00:00</td>\n",
              "      <td>NaN</td>\n",
              "      <td>NaN</td>\n",
              "      <td>NaN</td>\n",
              "      <td>NaN</td>\n",
              "      <td>NaN</td>\n",
              "      <td>NaN</td>\n",
              "      <td>NaN</td>\n",
              "      <td>NaN</td>\n",
              "      <td>NaN</td>\n",
              "      <td>NaN</td>\n",
              "      <td>NaN</td>\n",
              "      <td>NaN</td>\n",
              "      <td>NaN</td>\n",
              "      <td>NaN</td>\n",
              "      <td>NaN</td>\n",
              "      <td>NaN</td>\n",
              "      <td>NaN</td>\n",
              "      <td>NaN</td>\n",
              "      <td>NaN</td>\n",
              "      <td>NaN</td>\n",
              "      <td>NaN</td>\n",
              "      <td>NaN</td>\n",
              "      <td>NaN</td>\n",
              "      <td>NaN</td>\n",
              "      <td>NaN</td>\n",
              "      <td>NaN</td>\n",
              "      <td>NaN</td>\n",
              "      <td>NaN</td>\n",
              "      <td>NaN</td>\n",
              "      <td>NaN</td>\n",
              "      <td>NaN</td>\n",
              "      <td>NaN</td>\n",
              "      <td>NaN</td>\n",
              "      <td>NaN</td>\n",
              "      <td>NaN</td>\n",
              "      <td>NaN</td>\n",
              "      <td>NaN</td>\n",
              "      <td>NaN</td>\n",
              "      <td>NaN</td>\n",
              "      <td>NaN</td>\n",
              "      <td>NaN</td>\n",
              "    </tr>\n",
              "    <tr>\n",
              "      <th>mean</th>\n",
              "      <td>33.222532</td>\n",
              "      <td>3.594448</td>\n",
              "      <td>1.834821</td>\n",
              "      <td>2.547347</td>\n",
              "      <td>1.728633</td>\n",
              "      <td>3.551805</td>\n",
              "      <td>1.823768</td>\n",
              "      <td>3.372366</td>\n",
              "      <td>3.000658</td>\n",
              "      <td>1.812080</td>\n",
              "      <td>NaN</td>\n",
              "      <td>NaN</td>\n",
              "      <td>NaN</td>\n",
              "      <td>3.262180</td>\n",
              "      <td>NaN</td>\n",
              "      <td>2.401363</td>\n",
              "      <td>1.738742</td>\n",
              "      <td>2.387132</td>\n",
              "      <td>1.671585</td>\n",
              "      <td>4.056229</td>\n",
              "      <td>NaN</td>\n",
              "      <td>NaN</td>\n",
              "      <td>3.863454</td>\n",
              "      <td>3.756002</td>\n",
              "      <td>3.451461</td>\n",
              "      <td>1.810226</td>\n",
              "      <td>1047.544665</td>\n",
              "      <td>NaN</td>\n",
              "      <td>NaN</td>\n",
              "      <td>NaN</td>\n",
              "      <td>NaN</td>\n",
              "      <td>8.326076</td>\n",
              "      <td>1.998610</td>\n",
              "      <td>4.186818</td>\n",
              "      <td>1.926742</td>\n",
              "      <td>NaN</td>\n",
              "      <td>2.672064</td>\n",
              "      <td>1.793035</td>\n",
              "      <td>3.557943</td>\n",
              "      <td>1.796538</td>\n",
              "      <td>NaN</td>\n",
              "      <td>NaN</td>\n",
              "      <td>NaN</td>\n",
              "      <td>3.542479</td>\n",
              "      <td>1.815867</td>\n",
              "      <td>5.794331</td>\n",
              "      <td>NaN</td>\n",
              "      <td>NaN</td>\n",
              "      <td>5.777003</td>\n",
              "      <td>6.637633</td>\n",
              "      <td>1831.891644</td>\n",
              "      <td>NaN</td>\n",
              "      <td>NaN</td>\n",
              "      <td>2.141760</td>\n",
              "    </tr>\n",
              "    <tr>\n",
              "      <th>std</th>\n",
              "      <td>18.115493</td>\n",
              "      <td>3.282610</td>\n",
              "      <td>1.107884</td>\n",
              "      <td>1.330386</td>\n",
              "      <td>0.730434</td>\n",
              "      <td>3.527564</td>\n",
              "      <td>1.100806</td>\n",
              "      <td>0.778516</td>\n",
              "      <td>2.032791</td>\n",
              "      <td>0.868254</td>\n",
              "      <td>NaN</td>\n",
              "      <td>NaN</td>\n",
              "      <td>NaN</td>\n",
              "      <td>2.449627</td>\n",
              "      <td>NaN</td>\n",
              "      <td>1.057305</td>\n",
              "      <td>0.614454</td>\n",
              "      <td>1.048818</td>\n",
              "      <td>0.585400</td>\n",
              "      <td>1.845206</td>\n",
              "      <td>NaN</td>\n",
              "      <td>NaN</td>\n",
              "      <td>1.895683</td>\n",
              "      <td>2.817183</td>\n",
              "      <td>3.075889</td>\n",
              "      <td>1.031691</td>\n",
              "      <td>1213.773168</td>\n",
              "      <td>NaN</td>\n",
              "      <td>NaN</td>\n",
              "      <td>NaN</td>\n",
              "      <td>NaN</td>\n",
              "      <td>397.235666</td>\n",
              "      <td>1.628982</td>\n",
              "      <td>5.581127</td>\n",
              "      <td>1.334797</td>\n",
              "      <td>NaN</td>\n",
              "      <td>1.424672</td>\n",
              "      <td>0.751026</td>\n",
              "      <td>3.272510</td>\n",
              "      <td>1.004273</td>\n",
              "      <td>NaN</td>\n",
              "      <td>NaN</td>\n",
              "      <td>NaN</td>\n",
              "      <td>3.646316</td>\n",
              "      <td>0.996238</td>\n",
              "      <td>1.239577</td>\n",
              "      <td>NaN</td>\n",
              "      <td>NaN</td>\n",
              "      <td>1.274712</td>\n",
              "      <td>2.290596</td>\n",
              "      <td>2294.307489</td>\n",
              "      <td>NaN</td>\n",
              "      <td>NaN</td>\n",
              "      <td>0.460311</td>\n",
              "    </tr>\n",
              "    <tr>\n",
              "      <th>min</th>\n",
              "      <td>1.000000</td>\n",
              "      <td>1.010000</td>\n",
              "      <td>1.010000</td>\n",
              "      <td>1.020000</td>\n",
              "      <td>1.010000</td>\n",
              "      <td>1.002000</td>\n",
              "      <td>1.000000</td>\n",
              "      <td>3.000000</td>\n",
              "      <td>1.020000</td>\n",
              "      <td>1.000000</td>\n",
              "      <td>NaN</td>\n",
              "      <td>NaN</td>\n",
              "      <td>NaN</td>\n",
              "      <td>1.000000</td>\n",
              "      <td>NaN</td>\n",
              "      <td>1.030000</td>\n",
              "      <td>1.010000</td>\n",
              "      <td>1.030000</td>\n",
              "      <td>1.010000</td>\n",
              "      <td>0.000000</td>\n",
              "      <td>NaN</td>\n",
              "      <td>NaN</td>\n",
              "      <td>0.000000</td>\n",
              "      <td>0.000000</td>\n",
              "      <td>1.000000</td>\n",
              "      <td>1.000000</td>\n",
              "      <td>1.000000</td>\n",
              "      <td>NaN</td>\n",
              "      <td>NaN</td>\n",
              "      <td>NaN</td>\n",
              "      <td>NaN</td>\n",
              "      <td>1.010000</td>\n",
              "      <td>1.010000</td>\n",
              "      <td>1.010000</td>\n",
              "      <td>1.000000</td>\n",
              "      <td>NaN</td>\n",
              "      <td>0.000000</td>\n",
              "      <td>0.000000</td>\n",
              "      <td>1.010000</td>\n",
              "      <td>1.000000</td>\n",
              "      <td>NaN</td>\n",
              "      <td>NaN</td>\n",
              "      <td>NaN</td>\n",
              "      <td>1.020000</td>\n",
              "      <td>1.010000</td>\n",
              "      <td>0.000000</td>\n",
              "      <td>NaN</td>\n",
              "      <td>NaN</td>\n",
              "      <td>0.000000</td>\n",
              "      <td>0.000000</td>\n",
              "      <td>1.000000</td>\n",
              "      <td>NaN</td>\n",
              "      <td>NaN</td>\n",
              "      <td>0.000000</td>\n",
              "    </tr>\n",
              "    <tr>\n",
              "      <th>25%</th>\n",
              "      <td>19.000000</td>\n",
              "      <td>1.740000</td>\n",
              "      <td>1.240000</td>\n",
              "      <td>1.600000</td>\n",
              "      <td>1.250000</td>\n",
              "      <td>1.720000</td>\n",
              "      <td>1.222000</td>\n",
              "      <td>3.000000</td>\n",
              "      <td>1.720000</td>\n",
              "      <td>1.280000</td>\n",
              "      <td>NaN</td>\n",
              "      <td>NaN</td>\n",
              "      <td>NaN</td>\n",
              "      <td>1.750000</td>\n",
              "      <td>NaN</td>\n",
              "      <td>1.655000</td>\n",
              "      <td>1.330000</td>\n",
              "      <td>1.650000</td>\n",
              "      <td>1.300000</td>\n",
              "      <td>3.000000</td>\n",
              "      <td>NaN</td>\n",
              "      <td>NaN</td>\n",
              "      <td>2.000000</td>\n",
              "      <td>2.000000</td>\n",
              "      <td>1.730000</td>\n",
              "      <td>1.250000</td>\n",
              "      <td>496.000000</td>\n",
              "      <td>NaN</td>\n",
              "      <td>NaN</td>\n",
              "      <td>NaN</td>\n",
              "      <td>NaN</td>\n",
              "      <td>1.850000</td>\n",
              "      <td>1.290000</td>\n",
              "      <td>1.794000</td>\n",
              "      <td>1.270000</td>\n",
              "      <td>NaN</td>\n",
              "      <td>1.670000</td>\n",
              "      <td>1.333000</td>\n",
              "      <td>1.730000</td>\n",
              "      <td>1.220000</td>\n",
              "      <td>NaN</td>\n",
              "      <td>NaN</td>\n",
              "      <td>NaN</td>\n",
              "      <td>1.750000</td>\n",
              "      <td>1.240000</td>\n",
              "      <td>6.000000</td>\n",
              "      <td>NaN</td>\n",
              "      <td>NaN</td>\n",
              "      <td>6.000000</td>\n",
              "      <td>6.000000</td>\n",
              "      <td>640.000000</td>\n",
              "      <td>NaN</td>\n",
              "      <td>NaN</td>\n",
              "      <td>2.000000</td>\n",
              "    </tr>\n",
              "    <tr>\n",
              "      <th>50%</th>\n",
              "      <td>33.000000</td>\n",
              "      <td>2.550000</td>\n",
              "      <td>1.500000</td>\n",
              "      <td>2.150000</td>\n",
              "      <td>1.500000</td>\n",
              "      <td>2.500000</td>\n",
              "      <td>1.500000</td>\n",
              "      <td>3.000000</td>\n",
              "      <td>2.375000</td>\n",
              "      <td>1.550000</td>\n",
              "      <td>NaN</td>\n",
              "      <td>NaN</td>\n",
              "      <td>NaN</td>\n",
              "      <td>2.460000</td>\n",
              "      <td>NaN</td>\n",
              "      <td>2.100000</td>\n",
              "      <td>1.550000</td>\n",
              "      <td>2.100000</td>\n",
              "      <td>1.500000</td>\n",
              "      <td>4.000000</td>\n",
              "      <td>NaN</td>\n",
              "      <td>NaN</td>\n",
              "      <td>4.000000</td>\n",
              "      <td>3.000000</td>\n",
              "      <td>2.500000</td>\n",
              "      <td>1.500000</td>\n",
              "      <td>736.000000</td>\n",
              "      <td>NaN</td>\n",
              "      <td>NaN</td>\n",
              "      <td>NaN</td>\n",
              "      <td>NaN</td>\n",
              "      <td>2.780000</td>\n",
              "      <td>1.570000</td>\n",
              "      <td>2.660000</td>\n",
              "      <td>1.550000</td>\n",
              "      <td>NaN</td>\n",
              "      <td>2.250000</td>\n",
              "      <td>1.571000</td>\n",
              "      <td>2.630000</td>\n",
              "      <td>1.500000</td>\n",
              "      <td>NaN</td>\n",
              "      <td>NaN</td>\n",
              "      <td>NaN</td>\n",
              "      <td>2.500000</td>\n",
              "      <td>1.500000</td>\n",
              "      <td>6.000000</td>\n",
              "      <td>NaN</td>\n",
              "      <td>NaN</td>\n",
              "      <td>6.000000</td>\n",
              "      <td>6.000000</td>\n",
              "      <td>1007.000000</td>\n",
              "      <td>NaN</td>\n",
              "      <td>NaN</td>\n",
              "      <td>2.000000</td>\n",
              "    </tr>\n",
              "    <tr>\n",
              "      <th>75%</th>\n",
              "      <td>49.000000</td>\n",
              "      <td>3.990000</td>\n",
              "      <td>2.060000</td>\n",
              "      <td>3.100000</td>\n",
              "      <td>1.950000</td>\n",
              "      <td>4.000000</td>\n",
              "      <td>2.075000</td>\n",
              "      <td>3.000000</td>\n",
              "      <td>3.400000</td>\n",
              "      <td>2.050000</td>\n",
              "      <td>NaN</td>\n",
              "      <td>NaN</td>\n",
              "      <td>NaN</td>\n",
              "      <td>3.750000</td>\n",
              "      <td>NaN</td>\n",
              "      <td>2.800000</td>\n",
              "      <td>1.980000</td>\n",
              "      <td>2.900000</td>\n",
              "      <td>1.850000</td>\n",
              "      <td>6.000000</td>\n",
              "      <td>NaN</td>\n",
              "      <td>NaN</td>\n",
              "      <td>6.000000</td>\n",
              "      <td>5.000000</td>\n",
              "      <td>4.000000</td>\n",
              "      <td>2.000000</td>\n",
              "      <td>1141.000000</td>\n",
              "      <td>NaN</td>\n",
              "      <td>NaN</td>\n",
              "      <td>NaN</td>\n",
              "      <td>NaN</td>\n",
              "      <td>4.540000</td>\n",
              "      <td>2.200000</td>\n",
              "      <td>4.240000</td>\n",
              "      <td>2.140000</td>\n",
              "      <td>NaN</td>\n",
              "      <td>3.000000</td>\n",
              "      <td>2.100000</td>\n",
              "      <td>4.000000</td>\n",
              "      <td>2.000000</td>\n",
              "      <td>NaN</td>\n",
              "      <td>NaN</td>\n",
              "      <td>NaN</td>\n",
              "      <td>3.850000</td>\n",
              "      <td>2.030000</td>\n",
              "      <td>6.000000</td>\n",
              "      <td>NaN</td>\n",
              "      <td>NaN</td>\n",
              "      <td>6.000000</td>\n",
              "      <td>7.000000</td>\n",
              "      <td>1895.000000</td>\n",
              "      <td>NaN</td>\n",
              "      <td>NaN</td>\n",
              "      <td>2.000000</td>\n",
              "    </tr>\n",
              "    <tr>\n",
              "      <th>max</th>\n",
              "      <td>69.000000</td>\n",
              "      <td>36.440000</td>\n",
              "      <td>23.450000</td>\n",
              "      <td>9.000000</td>\n",
              "      <td>7.500000</td>\n",
              "      <td>101.000000</td>\n",
              "      <td>29.000000</td>\n",
              "      <td>5.000000</td>\n",
              "      <td>25.000000</td>\n",
              "      <td>14.000000</td>\n",
              "      <td>NaN</td>\n",
              "      <td>NaN</td>\n",
              "      <td>NaN</td>\n",
              "      <td>40.000000</td>\n",
              "      <td>NaN</td>\n",
              "      <td>11.000000</td>\n",
              "      <td>7.500000</td>\n",
              "      <td>10.000000</td>\n",
              "      <td>6.000000</td>\n",
              "      <td>7.000000</td>\n",
              "      <td>NaN</td>\n",
              "      <td>NaN</td>\n",
              "      <td>7.000000</td>\n",
              "      <td>68.000000</td>\n",
              "      <td>51.000000</td>\n",
              "      <td>26.000000</td>\n",
              "      <td>16950.000000</td>\n",
              "      <td>NaN</td>\n",
              "      <td>NaN</td>\n",
              "      <td>NaN</td>\n",
              "      <td>NaN</td>\n",
              "      <td>42586.000000</td>\n",
              "      <td>76.000000</td>\n",
              "      <td>121.000000</td>\n",
              "      <td>46.000000</td>\n",
              "      <td>NaN</td>\n",
              "      <td>13.000000</td>\n",
              "      <td>9.000000</td>\n",
              "      <td>81.000000</td>\n",
              "      <td>19.000000</td>\n",
              "      <td>NaN</td>\n",
              "      <td>NaN</td>\n",
              "      <td>NaN</td>\n",
              "      <td>60.000000</td>\n",
              "      <td>18.000000</td>\n",
              "      <td>7.000000</td>\n",
              "      <td>NaN</td>\n",
              "      <td>NaN</td>\n",
              "      <td>7.000000</td>\n",
              "      <td>70.000000</td>\n",
              "      <td>16950.000000</td>\n",
              "      <td>NaN</td>\n",
              "      <td>NaN</td>\n",
              "      <td>3.000000</td>\n",
              "    </tr>\n",
              "  </tbody>\n",
              "</table>\n",
              "</div>"
            ],
            "text/plain": [
              "                 ATP          AvgL  ...      Winner         Wsets\n",
              "count   52298.000000  22745.000000  ...       52298  52074.000000\n",
              "unique           NaN           NaN  ...         948           NaN\n",
              "top              NaN           NaN  ...  Federer R.           NaN\n",
              "freq             NaN           NaN  ...        1121           NaN\n",
              "first            NaN           NaN  ...         NaN           NaN\n",
              "last             NaN           NaN  ...         NaN           NaN\n",
              "mean       33.222532      3.594448  ...         NaN      2.141760\n",
              "std        18.115493      3.282610  ...         NaN      0.460311\n",
              "min         1.000000      1.010000  ...         NaN      0.000000\n",
              "25%        19.000000      1.740000  ...         NaN      2.000000\n",
              "50%        33.000000      2.550000  ...         NaN      2.000000\n",
              "75%        49.000000      3.990000  ...         NaN      2.000000\n",
              "max        69.000000     36.440000  ...         NaN      3.000000\n",
              "\n",
              "[13 rows x 54 columns]"
            ]
          },
          "metadata": {
            "tags": []
          },
          "execution_count": 302
        }
      ]
    },
    {
      "cell_type": "markdown",
      "metadata": {
        "id": "-Ryvqc5R9OzJ",
        "colab_type": "text"
      },
      "source": [
        "To predict the outcome of ATP game, we define the labels for the wins and the loses. \n",
        "\n",
        "Assuming that we set Player 1 as the player who's name alphabetically comes first.\n",
        "\n",
        "Then, xe set the labels as:\n",
        "\n",
        "+ 1 if Player 1 wins\n",
        "\n",
        "+ 2 if Player 1 loses"
      ]
    },
    {
      "cell_type": "code",
      "metadata": {
        "id": "wimeFmmO82zN",
        "colab_type": "code",
        "outputId": "593f68d7-ea48-415c-d434-28a541d6b4fb",
        "colab": {
          "base_uri": "https://localhost:8080/",
          "height": 210
        }
      },
      "source": [
        "df_atp[\"Labels\"] = df_atp.apply(lambda row: 1 if row[\"Winner\"] < row[\"Loser\"] else 0, axis=1)\n",
        "display(df_atp[[\"Winner\", \"Loser\", \"Labels\"]].head(3))\n",
        "print(\"--------------------------------\")\n",
        "print(\"We notice that there is no Imbalanced Data issue:\")\n",
        "print(\"The number of 1 is:\", df_atp[df_atp[\"Labels\"] == 1].shape[0])\n",
        "print(\"The number of 0 is:\", df_atp[df_atp[\"Labels\"] == 0].shape[0])"
      ],
      "execution_count": 0,
      "outputs": [
        {
          "output_type": "display_data",
          "data": {
            "text/html": [
              "<div>\n",
              "<style scoped>\n",
              "    .dataframe tbody tr th:only-of-type {\n",
              "        vertical-align: middle;\n",
              "    }\n",
              "\n",
              "    .dataframe tbody tr th {\n",
              "        vertical-align: top;\n",
              "    }\n",
              "\n",
              "    .dataframe thead th {\n",
              "        text-align: right;\n",
              "    }\n",
              "</style>\n",
              "<table border=\"1\" class=\"dataframe\">\n",
              "  <thead>\n",
              "    <tr style=\"text-align: right;\">\n",
              "      <th></th>\n",
              "      <th>Winner</th>\n",
              "      <th>Loser</th>\n",
              "      <th>Labels</th>\n",
              "    </tr>\n",
              "  </thead>\n",
              "  <tbody>\n",
              "    <tr>\n",
              "      <th>0</th>\n",
              "      <td>Dosedel S.</td>\n",
              "      <td>Ljubicic I.</td>\n",
              "      <td>1</td>\n",
              "    </tr>\n",
              "    <tr>\n",
              "      <th>1</th>\n",
              "      <td>Enqvist T.</td>\n",
              "      <td>Clement A.</td>\n",
              "      <td>0</td>\n",
              "    </tr>\n",
              "    <tr>\n",
              "      <th>2</th>\n",
              "      <td>Escude N.</td>\n",
              "      <td>Baccanello P.</td>\n",
              "      <td>0</td>\n",
              "    </tr>\n",
              "  </tbody>\n",
              "</table>\n",
              "</div>"
            ],
            "text/plain": [
              "       Winner          Loser  Labels\n",
              "0  Dosedel S.    Ljubicic I.       1\n",
              "1  Enqvist T.     Clement A.       0\n",
              "2   Escude N.  Baccanello P.       0"
            ]
          },
          "metadata": {
            "tags": []
          }
        },
        {
          "output_type": "stream",
          "text": [
            "--------------------------------\n",
            "We notice that there is no Imbalanced Data issue:\n",
            "The number of 1 is: 26602\n",
            "The number of 0 is: 25696\n"
          ],
          "name": "stdout"
        }
      ]
    },
    {
      "cell_type": "markdown",
      "metadata": {
        "id": "yjbdHxkMASrY",
        "colab_type": "text"
      },
      "source": [
        "Next, the dataset will be reformatted so that it can be integrated into a machine learning model."
      ]
    },
    {
      "cell_type": "code",
      "metadata": {
        "id": "P-dL_azb-70R",
        "colab_type": "code",
        "outputId": "5e0901b8-e132-4e6a-ef56-be80c676934d",
        "colab": {
          "base_uri": "https://localhost:8080/",
          "height": 136
        }
      },
      "source": [
        "# Firstly, we drop the features that are intuitively irrelevant\n",
        "userNames = ['AvgL',\t'AvgW'\t'B&WL',\t'B&WW',\t'B365L', 'B365W', 'Best of', 'CBL',\t'CBW',\t'Comment',\t'Court', 'Date',\t\n",
        "'EXL',\t'EXW',\t'GBL',\t'GBW',\t'IWL',\t'IWW',\t'L1',\t'L2',\t'L3',\t'L4',\t'L5',\t'LBL',\t'LBW',\t'LPts',\t'LRank',\t 'Location',\t 'Loser',\t\n",
        "'Lsets',\t'MaxL',\t'MaxW',\t'PSL',\t'PSW',\t'Round',\t'SBL',\t'SBW',\t'SJL',\t'SJW',\t'Series', 'Surface', 'Tournament',\t\n",
        "'UBL',\t'UBW',\t'W1',\t'W2',\t'W3',\t'W4',\t'W5',\t'WPts',\t'WRank', 'Winner',\t'Wsets','Labels',]\n",
        "feature = df_atp.loc[:,userNames]"
      ],
      "execution_count": 0,
      "outputs": [
        {
          "output_type": "stream",
          "text": [
            "/usr/local/lib/python3.6/dist-packages/pandas/core/indexing.py:1494: FutureWarning: \n",
            "Passing list-likes to .loc or [] with any missing label will raise\n",
            "KeyError in the future, you can use .reindex() as an alternative.\n",
            "\n",
            "See the documentation here:\n",
            "https://pandas.pydata.org/pandas-docs/stable/indexing.html#deprecate-loc-reindex-listlike\n",
            "  return self._getitem_tuple(key)\n"
          ],
          "name": "stderr"
        }
      ]
    },
    {
      "cell_type": "markdown",
      "metadata": {
        "id": "E30LcoHJAjK9",
        "colab_type": "text"
      },
      "source": [
        "Then, we convert values that are objects to float representation and the columns where the values are NaNs"
      ]
    },
    {
      "cell_type": "code",
      "metadata": {
        "id": "hAibbHT7A4ax",
        "colab_type": "code",
        "outputId": "51cd34b2-fdd1-4eab-9964-a43165eff543",
        "colab": {
          "base_uri": "https://localhost:8080/",
          "height": 317
        }
      },
      "source": [
        "# Convert values that are objects to float \n",
        "objects = feature.columns[feature.dtypes.eq(object)]\n",
        "feature.loc[:, objects] = feature.apply(pd.to_numeric, errors='coerce')\n",
        "# Convert date time to float\n",
        "feature[\"Date\"] = pd.to_numeric(feature[\"Date\"], downcast='float')\n",
        "feature.describe(include='all')\n"
      ],
      "execution_count": 0,
      "outputs": [
        {
          "output_type": "execute_result",
          "data": {
            "text/html": [
              "<div>\n",
              "<style scoped>\n",
              "    .dataframe tbody tr th:only-of-type {\n",
              "        vertical-align: middle;\n",
              "    }\n",
              "\n",
              "    .dataframe tbody tr th {\n",
              "        vertical-align: top;\n",
              "    }\n",
              "\n",
              "    .dataframe thead th {\n",
              "        text-align: right;\n",
              "    }\n",
              "</style>\n",
              "<table border=\"1\" class=\"dataframe\">\n",
              "  <thead>\n",
              "    <tr style=\"text-align: right;\">\n",
              "      <th></th>\n",
              "      <th>AvgL</th>\n",
              "      <th>AvgWB&amp;WL</th>\n",
              "      <th>B&amp;WW</th>\n",
              "      <th>B365L</th>\n",
              "      <th>B365W</th>\n",
              "      <th>Best of</th>\n",
              "      <th>CBL</th>\n",
              "      <th>CBW</th>\n",
              "      <th>Comment</th>\n",
              "      <th>Court</th>\n",
              "      <th>Date</th>\n",
              "      <th>EXL</th>\n",
              "      <th>EXW</th>\n",
              "      <th>GBL</th>\n",
              "      <th>GBW</th>\n",
              "      <th>IWL</th>\n",
              "      <th>IWW</th>\n",
              "      <th>L1</th>\n",
              "      <th>L2</th>\n",
              "      <th>L3</th>\n",
              "      <th>L4</th>\n",
              "      <th>L5</th>\n",
              "      <th>LBL</th>\n",
              "      <th>LBW</th>\n",
              "      <th>LPts</th>\n",
              "      <th>LRank</th>\n",
              "      <th>Location</th>\n",
              "      <th>Loser</th>\n",
              "      <th>Lsets</th>\n",
              "      <th>MaxL</th>\n",
              "      <th>MaxW</th>\n",
              "      <th>PSL</th>\n",
              "      <th>PSW</th>\n",
              "      <th>Round</th>\n",
              "      <th>SBL</th>\n",
              "      <th>SBW</th>\n",
              "      <th>SJL</th>\n",
              "      <th>SJW</th>\n",
              "      <th>Series</th>\n",
              "      <th>Surface</th>\n",
              "      <th>Tournament</th>\n",
              "      <th>UBL</th>\n",
              "      <th>UBW</th>\n",
              "      <th>W1</th>\n",
              "      <th>W2</th>\n",
              "      <th>W3</th>\n",
              "      <th>W4</th>\n",
              "      <th>W5</th>\n",
              "      <th>WPts</th>\n",
              "      <th>WRank</th>\n",
              "      <th>Winner</th>\n",
              "      <th>Wsets</th>\n",
              "      <th>Labels</th>\n",
              "    </tr>\n",
              "  </thead>\n",
              "  <tbody>\n",
              "    <tr>\n",
              "      <th>count</th>\n",
              "      <td>22745.000000</td>\n",
              "      <td>0.0</td>\n",
              "      <td>1097.000000</td>\n",
              "      <td>43666.000000</td>\n",
              "      <td>43643.000000</td>\n",
              "      <td>52298.000000</td>\n",
              "      <td>17506.000000</td>\n",
              "      <td>17506.000000</td>\n",
              "      <td>0.0</td>\n",
              "      <td>0.0</td>\n",
              "      <td>5.229800e+04</td>\n",
              "      <td>39416.000000</td>\n",
              "      <td>39410.000000</td>\n",
              "      <td>5055.000000</td>\n",
              "      <td>5055.000000</td>\n",
              "      <td>13358.000000</td>\n",
              "      <td>13358.000000</td>\n",
              "      <td>52037.000000</td>\n",
              "      <td>51525.000000</td>\n",
              "      <td>24070.000000</td>\n",
              "      <td>4731.000000</td>\n",
              "      <td>1791.000000</td>\n",
              "      <td>28142.000000</td>\n",
              "      <td>28131.000000</td>\n",
              "      <td>36035.000000</td>\n",
              "      <td>52193.000000</td>\n",
              "      <td>0.0</td>\n",
              "      <td>0.0</td>\n",
              "      <td>52072.000000</td>\n",
              "      <td>22745.000000</td>\n",
              "      <td>22745.000000</td>\n",
              "      <td>37339.000000</td>\n",
              "      <td>37339.000000</td>\n",
              "      <td>0.0</td>\n",
              "      <td>5424.000000</td>\n",
              "      <td>5424.000000</td>\n",
              "      <td>15579.000000</td>\n",
              "      <td>15572.000000</td>\n",
              "      <td>0.0</td>\n",
              "      <td>0.0</td>\n",
              "      <td>0.0</td>\n",
              "      <td>10671.000000</td>\n",
              "      <td>10671.000000</td>\n",
              "      <td>52035.000000</td>\n",
              "      <td>51524.000000</td>\n",
              "      <td>24070.000000</td>\n",
              "      <td>4731.000000</td>\n",
              "      <td>1791.000000</td>\n",
              "      <td>36094.000000</td>\n",
              "      <td>52282.000000</td>\n",
              "      <td>0.0</td>\n",
              "      <td>52074.000000</td>\n",
              "      <td>52298.000000</td>\n",
              "    </tr>\n",
              "    <tr>\n",
              "      <th>mean</th>\n",
              "      <td>3.594448</td>\n",
              "      <td>NaN</td>\n",
              "      <td>1.728633</td>\n",
              "      <td>3.551805</td>\n",
              "      <td>1.823768</td>\n",
              "      <td>3.372366</td>\n",
              "      <td>3.000658</td>\n",
              "      <td>1.812080</td>\n",
              "      <td>NaN</td>\n",
              "      <td>NaN</td>\n",
              "      <td>1.236536e+18</td>\n",
              "      <td>3.262180</td>\n",
              "      <td>1.802489</td>\n",
              "      <td>2.401363</td>\n",
              "      <td>1.738742</td>\n",
              "      <td>2.387132</td>\n",
              "      <td>1.671585</td>\n",
              "      <td>4.056229</td>\n",
              "      <td>3.872664</td>\n",
              "      <td>3.607104</td>\n",
              "      <td>3.863454</td>\n",
              "      <td>3.756002</td>\n",
              "      <td>3.451461</td>\n",
              "      <td>1.810226</td>\n",
              "      <td>1047.544665</td>\n",
              "      <td>92.227042</td>\n",
              "      <td>NaN</td>\n",
              "      <td>NaN</td>\n",
              "      <td>0.407801</td>\n",
              "      <td>8.326076</td>\n",
              "      <td>1.998610</td>\n",
              "      <td>4.186818</td>\n",
              "      <td>1.926742</td>\n",
              "      <td>NaN</td>\n",
              "      <td>2.672064</td>\n",
              "      <td>1.793035</td>\n",
              "      <td>3.557943</td>\n",
              "      <td>1.796538</td>\n",
              "      <td>NaN</td>\n",
              "      <td>NaN</td>\n",
              "      <td>NaN</td>\n",
              "      <td>3.542479</td>\n",
              "      <td>1.815867</td>\n",
              "      <td>5.794331</td>\n",
              "      <td>5.772824</td>\n",
              "      <td>6.025052</td>\n",
              "      <td>5.777003</td>\n",
              "      <td>6.637633</td>\n",
              "      <td>1831.891644</td>\n",
              "      <td>59.172564</td>\n",
              "      <td>NaN</td>\n",
              "      <td>2.141760</td>\n",
              "      <td>0.508662</td>\n",
              "    </tr>\n",
              "    <tr>\n",
              "      <th>std</th>\n",
              "      <td>3.282610</td>\n",
              "      <td>NaN</td>\n",
              "      <td>0.730434</td>\n",
              "      <td>3.527564</td>\n",
              "      <td>1.100806</td>\n",
              "      <td>0.778516</td>\n",
              "      <td>2.032791</td>\n",
              "      <td>0.868254</td>\n",
              "      <td>NaN</td>\n",
              "      <td>NaN</td>\n",
              "      <td>1.733248e+17</td>\n",
              "      <td>2.449627</td>\n",
              "      <td>0.959042</td>\n",
              "      <td>1.057305</td>\n",
              "      <td>0.614454</td>\n",
              "      <td>1.048818</td>\n",
              "      <td>0.585400</td>\n",
              "      <td>1.845206</td>\n",
              "      <td>1.874537</td>\n",
              "      <td>1.767365</td>\n",
              "      <td>1.895683</td>\n",
              "      <td>2.817183</td>\n",
              "      <td>3.075889</td>\n",
              "      <td>1.031691</td>\n",
              "      <td>1213.773168</td>\n",
              "      <td>116.947845</td>\n",
              "      <td>NaN</td>\n",
              "      <td>NaN</td>\n",
              "      <td>0.557696</td>\n",
              "      <td>397.235666</td>\n",
              "      <td>1.628982</td>\n",
              "      <td>5.581127</td>\n",
              "      <td>1.334797</td>\n",
              "      <td>NaN</td>\n",
              "      <td>1.424672</td>\n",
              "      <td>0.751026</td>\n",
              "      <td>3.272510</td>\n",
              "      <td>1.004273</td>\n",
              "      <td>NaN</td>\n",
              "      <td>NaN</td>\n",
              "      <td>NaN</td>\n",
              "      <td>3.646316</td>\n",
              "      <td>0.996238</td>\n",
              "      <td>1.239577</td>\n",
              "      <td>1.256545</td>\n",
              "      <td>0.932111</td>\n",
              "      <td>1.274712</td>\n",
              "      <td>2.290596</td>\n",
              "      <td>2294.307489</td>\n",
              "      <td>73.614866</td>\n",
              "      <td>NaN</td>\n",
              "      <td>0.460311</td>\n",
              "      <td>0.499930</td>\n",
              "    </tr>\n",
              "    <tr>\n",
              "      <th>min</th>\n",
              "      <td>1.010000</td>\n",
              "      <td>NaN</td>\n",
              "      <td>1.010000</td>\n",
              "      <td>1.002000</td>\n",
              "      <td>1.000000</td>\n",
              "      <td>3.000000</td>\n",
              "      <td>1.020000</td>\n",
              "      <td>1.000000</td>\n",
              "      <td>NaN</td>\n",
              "      <td>NaN</td>\n",
              "      <td>9.468576e+17</td>\n",
              "      <td>1.000000</td>\n",
              "      <td>0.000000</td>\n",
              "      <td>1.030000</td>\n",
              "      <td>1.010000</td>\n",
              "      <td>1.030000</td>\n",
              "      <td>1.010000</td>\n",
              "      <td>0.000000</td>\n",
              "      <td>0.000000</td>\n",
              "      <td>0.000000</td>\n",
              "      <td>0.000000</td>\n",
              "      <td>0.000000</td>\n",
              "      <td>1.000000</td>\n",
              "      <td>1.000000</td>\n",
              "      <td>1.000000</td>\n",
              "      <td>1.000000</td>\n",
              "      <td>NaN</td>\n",
              "      <td>NaN</td>\n",
              "      <td>0.000000</td>\n",
              "      <td>1.010000</td>\n",
              "      <td>1.010000</td>\n",
              "      <td>1.010000</td>\n",
              "      <td>1.000000</td>\n",
              "      <td>NaN</td>\n",
              "      <td>0.000000</td>\n",
              "      <td>0.000000</td>\n",
              "      <td>1.010000</td>\n",
              "      <td>1.000000</td>\n",
              "      <td>NaN</td>\n",
              "      <td>NaN</td>\n",
              "      <td>NaN</td>\n",
              "      <td>1.020000</td>\n",
              "      <td>1.010000</td>\n",
              "      <td>0.000000</td>\n",
              "      <td>0.000000</td>\n",
              "      <td>0.000000</td>\n",
              "      <td>0.000000</td>\n",
              "      <td>0.000000</td>\n",
              "      <td>1.000000</td>\n",
              "      <td>1.000000</td>\n",
              "      <td>NaN</td>\n",
              "      <td>0.000000</td>\n",
              "      <td>0.000000</td>\n",
              "    </tr>\n",
              "    <tr>\n",
              "      <th>25%</th>\n",
              "      <td>1.740000</td>\n",
              "      <td>NaN</td>\n",
              "      <td>1.250000</td>\n",
              "      <td>1.720000</td>\n",
              "      <td>1.222000</td>\n",
              "      <td>3.000000</td>\n",
              "      <td>1.720000</td>\n",
              "      <td>1.280000</td>\n",
              "      <td>NaN</td>\n",
              "      <td>NaN</td>\n",
              "      <td>1.086826e+18</td>\n",
              "      <td>1.750000</td>\n",
              "      <td>1.250000</td>\n",
              "      <td>1.655000</td>\n",
              "      <td>1.330000</td>\n",
              "      <td>1.650000</td>\n",
              "      <td>1.300000</td>\n",
              "      <td>3.000000</td>\n",
              "      <td>2.000000</td>\n",
              "      <td>2.000000</td>\n",
              "      <td>2.000000</td>\n",
              "      <td>2.000000</td>\n",
              "      <td>1.730000</td>\n",
              "      <td>1.250000</td>\n",
              "      <td>496.000000</td>\n",
              "      <td>35.000000</td>\n",
              "      <td>NaN</td>\n",
              "      <td>NaN</td>\n",
              "      <td>0.000000</td>\n",
              "      <td>1.850000</td>\n",
              "      <td>1.290000</td>\n",
              "      <td>1.794000</td>\n",
              "      <td>1.270000</td>\n",
              "      <td>NaN</td>\n",
              "      <td>1.670000</td>\n",
              "      <td>1.333000</td>\n",
              "      <td>1.730000</td>\n",
              "      <td>1.220000</td>\n",
              "      <td>NaN</td>\n",
              "      <td>NaN</td>\n",
              "      <td>NaN</td>\n",
              "      <td>1.750000</td>\n",
              "      <td>1.240000</td>\n",
              "      <td>6.000000</td>\n",
              "      <td>6.000000</td>\n",
              "      <td>6.000000</td>\n",
              "      <td>6.000000</td>\n",
              "      <td>6.000000</td>\n",
              "      <td>640.000000</td>\n",
              "      <td>17.000000</td>\n",
              "      <td>NaN</td>\n",
              "      <td>2.000000</td>\n",
              "      <td>0.000000</td>\n",
              "    </tr>\n",
              "    <tr>\n",
              "      <th>50%</th>\n",
              "      <td>2.550000</td>\n",
              "      <td>NaN</td>\n",
              "      <td>1.500000</td>\n",
              "      <td>2.500000</td>\n",
              "      <td>1.500000</td>\n",
              "      <td>3.000000</td>\n",
              "      <td>2.375000</td>\n",
              "      <td>1.550000</td>\n",
              "      <td>NaN</td>\n",
              "      <td>NaN</td>\n",
              "      <td>1.233619e+18</td>\n",
              "      <td>2.460000</td>\n",
              "      <td>1.500000</td>\n",
              "      <td>2.100000</td>\n",
              "      <td>1.550000</td>\n",
              "      <td>2.100000</td>\n",
              "      <td>1.500000</td>\n",
              "      <td>4.000000</td>\n",
              "      <td>4.000000</td>\n",
              "      <td>4.000000</td>\n",
              "      <td>4.000000</td>\n",
              "      <td>3.000000</td>\n",
              "      <td>2.500000</td>\n",
              "      <td>1.500000</td>\n",
              "      <td>736.000000</td>\n",
              "      <td>65.000000</td>\n",
              "      <td>NaN</td>\n",
              "      <td>NaN</td>\n",
              "      <td>0.000000</td>\n",
              "      <td>2.780000</td>\n",
              "      <td>1.570000</td>\n",
              "      <td>2.660000</td>\n",
              "      <td>1.550000</td>\n",
              "      <td>NaN</td>\n",
              "      <td>2.250000</td>\n",
              "      <td>1.571000</td>\n",
              "      <td>2.630000</td>\n",
              "      <td>1.500000</td>\n",
              "      <td>NaN</td>\n",
              "      <td>NaN</td>\n",
              "      <td>NaN</td>\n",
              "      <td>2.500000</td>\n",
              "      <td>1.500000</td>\n",
              "      <td>6.000000</td>\n",
              "      <td>6.000000</td>\n",
              "      <td>6.000000</td>\n",
              "      <td>6.000000</td>\n",
              "      <td>6.000000</td>\n",
              "      <td>1007.000000</td>\n",
              "      <td>41.000000</td>\n",
              "      <td>NaN</td>\n",
              "      <td>2.000000</td>\n",
              "      <td>1.000000</td>\n",
              "    </tr>\n",
              "    <tr>\n",
              "      <th>75%</th>\n",
              "      <td>3.990000</td>\n",
              "      <td>NaN</td>\n",
              "      <td>1.950000</td>\n",
              "      <td>4.000000</td>\n",
              "      <td>2.075000</td>\n",
              "      <td>3.000000</td>\n",
              "      <td>3.400000</td>\n",
              "      <td>2.050000</td>\n",
              "      <td>NaN</td>\n",
              "      <td>NaN</td>\n",
              "      <td>1.388534e+18</td>\n",
              "      <td>3.750000</td>\n",
              "      <td>2.050000</td>\n",
              "      <td>2.800000</td>\n",
              "      <td>1.980000</td>\n",
              "      <td>2.900000</td>\n",
              "      <td>1.850000</td>\n",
              "      <td>6.000000</td>\n",
              "      <td>6.000000</td>\n",
              "      <td>5.000000</td>\n",
              "      <td>6.000000</td>\n",
              "      <td>5.000000</td>\n",
              "      <td>4.000000</td>\n",
              "      <td>2.000000</td>\n",
              "      <td>1141.000000</td>\n",
              "      <td>105.000000</td>\n",
              "      <td>NaN</td>\n",
              "      <td>NaN</td>\n",
              "      <td>1.000000</td>\n",
              "      <td>4.540000</td>\n",
              "      <td>2.200000</td>\n",
              "      <td>4.240000</td>\n",
              "      <td>2.140000</td>\n",
              "      <td>NaN</td>\n",
              "      <td>3.000000</td>\n",
              "      <td>2.100000</td>\n",
              "      <td>4.000000</td>\n",
              "      <td>2.000000</td>\n",
              "      <td>NaN</td>\n",
              "      <td>NaN</td>\n",
              "      <td>NaN</td>\n",
              "      <td>3.850000</td>\n",
              "      <td>2.030000</td>\n",
              "      <td>6.000000</td>\n",
              "      <td>6.000000</td>\n",
              "      <td>6.000000</td>\n",
              "      <td>6.000000</td>\n",
              "      <td>7.000000</td>\n",
              "      <td>1895.000000</td>\n",
              "      <td>77.000000</td>\n",
              "      <td>NaN</td>\n",
              "      <td>2.000000</td>\n",
              "      <td>1.000000</td>\n",
              "    </tr>\n",
              "    <tr>\n",
              "      <th>max</th>\n",
              "      <td>36.440000</td>\n",
              "      <td>NaN</td>\n",
              "      <td>7.500000</td>\n",
              "      <td>101.000000</td>\n",
              "      <td>29.000000</td>\n",
              "      <td>5.000000</td>\n",
              "      <td>25.000000</td>\n",
              "      <td>14.000000</td>\n",
              "      <td>NaN</td>\n",
              "      <td>NaN</td>\n",
              "      <td>1.542499e+18</td>\n",
              "      <td>40.000000</td>\n",
              "      <td>20.000000</td>\n",
              "      <td>11.000000</td>\n",
              "      <td>7.500000</td>\n",
              "      <td>10.000000</td>\n",
              "      <td>6.000000</td>\n",
              "      <td>7.000000</td>\n",
              "      <td>7.000000</td>\n",
              "      <td>7.000000</td>\n",
              "      <td>7.000000</td>\n",
              "      <td>68.000000</td>\n",
              "      <td>51.000000</td>\n",
              "      <td>26.000000</td>\n",
              "      <td>16950.000000</td>\n",
              "      <td>2159.000000</td>\n",
              "      <td>NaN</td>\n",
              "      <td>NaN</td>\n",
              "      <td>2.000000</td>\n",
              "      <td>42586.000000</td>\n",
              "      <td>76.000000</td>\n",
              "      <td>121.000000</td>\n",
              "      <td>46.000000</td>\n",
              "      <td>NaN</td>\n",
              "      <td>13.000000</td>\n",
              "      <td>9.000000</td>\n",
              "      <td>81.000000</td>\n",
              "      <td>19.000000</td>\n",
              "      <td>NaN</td>\n",
              "      <td>NaN</td>\n",
              "      <td>NaN</td>\n",
              "      <td>60.000000</td>\n",
              "      <td>18.000000</td>\n",
              "      <td>7.000000</td>\n",
              "      <td>7.000000</td>\n",
              "      <td>7.000000</td>\n",
              "      <td>7.000000</td>\n",
              "      <td>70.000000</td>\n",
              "      <td>16950.000000</td>\n",
              "      <td>1890.000000</td>\n",
              "      <td>NaN</td>\n",
              "      <td>3.000000</td>\n",
              "      <td>1.000000</td>\n",
              "    </tr>\n",
              "  </tbody>\n",
              "</table>\n",
              "</div>"
            ],
            "text/plain": [
              "               AvgL  AvgWB&WL         B&WW  ...  Winner         Wsets        Labels\n",
              "count  22745.000000       0.0  1097.000000  ...     0.0  52074.000000  52298.000000\n",
              "mean       3.594448       NaN     1.728633  ...     NaN      2.141760      0.508662\n",
              "std        3.282610       NaN     0.730434  ...     NaN      0.460311      0.499930\n",
              "min        1.010000       NaN     1.010000  ...     NaN      0.000000      0.000000\n",
              "25%        1.740000       NaN     1.250000  ...     NaN      2.000000      0.000000\n",
              "50%        2.550000       NaN     1.500000  ...     NaN      2.000000      1.000000\n",
              "75%        3.990000       NaN     1.950000  ...     NaN      2.000000      1.000000\n",
              "max       36.440000       NaN     7.500000  ...     NaN      3.000000      1.000000\n",
              "\n",
              "[8 rows x 53 columns]"
            ]
          },
          "metadata": {
            "tags": []
          },
          "execution_count": 305
        }
      ]
    },
    {
      "cell_type": "markdown",
      "metadata": {
        "id": "JUpw88AHBsdg",
        "colab_type": "text"
      },
      "source": [
        "We observe the data missing. It can be seen with data.describe () that most of the variables have a signigicative proportion of missing values. To analyze in more detail the behavior of missing values, plot a heatmap graph showing the percentage of missing value."
      ]
    },
    {
      "cell_type": "code",
      "metadata": {
        "id": "1GQF49AVCx8S",
        "colab_type": "code",
        "outputId": "1d23d48c-472b-43f9-b3ed-9b00a1ae67e8",
        "colab": {
          "base_uri": "https://localhost:8080/",
          "height": 293
        }
      },
      "source": [
        "fig, ax = plt.subplots(figsize=(30,3))\n",
        "sns.heatmap(feature,cmap='coolwarm')\n",
        "plt.show()"
      ],
      "execution_count": 0,
      "outputs": [
        {
          "output_type": "display_data",
          "data": {
            "image/png": "[encoded data removed]",
            "text/plain": [
              "<Figure size 2160x216 with 2 Axes>"
            ]
          },
          "metadata": {
            "tags": []
          }
        }
      ]
    },
    {
      "cell_type": "markdown",
      "metadata": {
        "id": "KwJvVK1tL5vW",
        "colab_type": "text"
      },
      "source": [
        "For example, we try to calculate the percentage and number of missing values in WPts and LPts column as follows:"
      ]
    },
    {
      "cell_type": "code",
      "metadata": {
        "id": "a_jj7Qwws48p",
        "colab_type": "code",
        "outputId": "40f30e57-b1e3-468b-fc08-56890b61868d",
        "colab": {
          "base_uri": "https://localhost:8080/",
          "height": 51
        }
      },
      "source": [
        "print('Percentage of missing values in WPts column', (len(feature.WPts) - len(feature.dropna()))/len(feature.WPts)*100)\n",
        "print('Percentage of missing values in LPts column', (len(feature.WPts) - len(feature.dropna()))/len(feature.LPts)*100)"
      ],
      "execution_count": 0,
      "outputs": [
        {
          "output_type": "stream",
          "text": [
            "Percentage of missing values in WPts column 100.0\n",
            "Percentage of missing values in LPts column 100.0\n"
          ],
          "name": "stdout"
        }
      ]
    },
    {
      "cell_type": "markdown",
      "metadata": {
        "id": "pF5t2kofVqgz",
        "colab_type": "text"
      },
      "source": [
        "Now, we will drop the features that are intuitively irrelevant. We start do an imputation of missing values. In fact there are many approaches to accomplish this. To simplify, we fill \"nan\" values with the following strategy:\n",
        "\n",
        "+ For odds, we replace \"nan\" by a value of 1.0 which corresponds to a winning probability of 50% (For an odd X/Y, the winning probability is given by: p = Y/(X + Y)\n",
        "+ For number of games won by set, we replace \"nan\" by zeros, supposing that the match is won before arriving to this set\n",
        "+ For Winner and Loser, we replace by zeros\n",
        "+ For number of sets won during the match `Wsets` and `Lsets`, we suppose that the \"nan\" values correspond to a withdrawal (e.g. due to injury), so we replace that by zeros\n",
        "+ For Player's rank, we fill with the maximum rank value in each column\n"
      ]
    },
    {
      "cell_type": "code",
      "metadata": {
        "id": "ShMaMzt_W6Rk",
        "colab_type": "code",
        "colab": {}
      },
      "source": [
        "df_tmp = feature.copy()\n",
        "df_tmp[\"Winner\"]= 0\n",
        "df_tmp[\"Loser\"]= 0\n",
        "df_tmp = df_tmp.dropna(axis=1, how=\"all\")\n",
        "df_tmp.fillna({x : 1.0 for x in [\"AvgL\", \"AvgW\", \"B&WL\", \"B&WW\", \"B365L\", \"B365W\", \"CBL\", \"CBW\", \"EXL\", \"EXW\", \"GBL\", \"GBW\", \"IWL\", \"IWW\",\n",
        "                                 \"LBL\", \"LBW\", \"MaxL\", \"MaxW\", \"PSL\", \"PSW\", \"SBL\", \"SBW\", \"SJL\", \"SJW\", \"UBL\", \"UBW\",\"WPts\", \"LPts\"]}, inplace=True)\n",
        "\n",
        "df_tmp.fillna({x : 0 for x in [\"L1\", \"L2\", \"L3\", \"L4\", \"L5\", \"W1\", \"W2\", \"W3\", \"W4\", \"W5\", \"Lsets\", \"Wsets\",\"Best of\"]}, inplace=True);\n",
        "df_tmp[\"WRank\"] = df_tmp[\"WRank\"].fillna(df_tmp[\"WRank\"].max())\n",
        "df_tmp[\"LRank\"] = df_tmp[\"LRank\"].fillna(df_tmp[\"LRank\"].max())"
      ],
      "execution_count": 0,
      "outputs": []
    },
    {
      "cell_type": "code",
      "metadata": {
        "id": "YFSQqidHZjtS",
        "colab_type": "code",
        "outputId": "a6913d26-467f-4fcc-81f3-ee89c112f8bc",
        "colab": {
          "base_uri": "https://localhost:8080/",
          "height": 268
        }
      },
      "source": [
        "fig, ax = plt.subplots(figsize=(30,3))\n",
        "sns.heatmap(df_tmp,cmap='coolwarm')\n",
        "plt.show()"
      ],
      "execution_count": 0,
      "outputs": [
        {
          "output_type": "display_data",
          "data": {
            "image/png": "[encoded data removed]",
            "text/plain": [
              "<Figure size 2160x216 with 2 Axes>"
            ]
          },
          "metadata": {
            "tags": []
          }
        }
      ]
    },
    {
      "cell_type": "markdown",
      "metadata": {
        "id": "pQEJsd6nZ8ZY",
        "colab_type": "text"
      },
      "source": [
        "Number of missing values is filled in all columns"
      ]
    },
    {
      "cell_type": "markdown",
      "metadata": {
        "id": "hvxkW55eaIcW",
        "colab_type": "text"
      },
      "source": [
        "Now, we use a Random Forest Classifier to find the features relevance."
      ]
    },
    {
      "cell_type": "code",
      "metadata": {
        "id": "9t9j0iXSaQnY",
        "colab_type": "code",
        "outputId": "e7f77162-1577-4afa-a18b-61d33e030342",
        "colab": {
          "base_uri": "https://localhost:8080/",
          "height": 783
        }
      },
      "source": [
        "# Import RandomForestClassifier from library sklearn\n",
        "from sklearn.ensemble import RandomForestClassifier\n",
        "df_forest = RandomForestClassifier(n_jobs=-1)\n",
        "df_forest.fit(X=df_tmp.drop(\"Labels\", axis=1), y=df_tmp.loc[:, \"Labels\"])\n",
        "\n",
        "plt.figure(figsize=(20, 10))\n",
        "df_imp = df_forest.feature_importances_\n",
        "cols = df_tmp.columns\n",
        "\n",
        "df_imp, cols = zip(*sorted(zip(df_imp, cols)))\n",
        "\n",
        "plt.barh(range(len(cols)), df_imp, align=\"center\");\n",
        "plt.yticks(range(len(cols)), cols)\n",
        "plt.title(\"Features Relevance for Classification\")\n",
        "plt.xlabel(\"Relevance Percentage\")\n",
        "plt.tight_layout();\n",
        "plt.show()"
      ],
      "execution_count": 0,
      "outputs": [
        {
          "output_type": "stream",
          "text": [
            "/usr/local/lib/python3.6/dist-packages/sklearn/ensemble/forest.py:245: FutureWarning: The default value of n_estimators will change from 10 in version 0.20 to 100 in 0.22.\n",
            "  \"10 in version 0.20 to 100 in 0.22.\", FutureWarning)\n"
          ],
          "name": "stderr"
        },
        {
          "output_type": "display_data",
          "data": {
            "image/png": "[encoded data removed]",
            "text/plain": [
              "<Figure size 1440x720 with 1 Axes>"
            ]
          },
          "metadata": {
            "tags": []
          }
        }
      ]
    },
    {
      "cell_type": "markdown",
      "metadata": {
        "id": "W05fG3SOciOR",
        "colab_type": "text"
      },
      "source": [
        "We set a minimum relevance percentage threshold according to which we drop features"
      ]
    },
    {
      "cell_type": "code",
      "metadata": {
        "id": "G9QzxfhscjiP",
        "colab_type": "code",
        "outputId": "d4ba8e35-cbbc-4127-a700-93da146e0a6a",
        "colab": {
          "base_uri": "https://localhost:8080/",
          "height": 204
        }
      },
      "source": [
        "relevance_threshold = 0.03\n",
        "df_imp = np.array(df_imp)\n",
        "df_relevante = cols[- np.where(df_imp > relevance_threshold)[0].shape[0] :]\n",
        "df_relevante"
      ],
      "execution_count": 0,
      "outputs": [
        {
          "output_type": "execute_result",
          "data": {
            "text/plain": [
              "('EXW',\n",
              " 'EXL',\n",
              " 'L2',\n",
              " 'L1',\n",
              " 'PSW',\n",
              " 'PSL',\n",
              " 'LPts',\n",
              " 'WPts',\n",
              " 'WRank',\n",
              " 'Date',\n",
              " 'LRank')"
            ]
          },
          "metadata": {
            "tags": []
          },
          "execution_count": 311
        }
      ]
    },
    {
      "cell_type": "code",
      "metadata": {
        "id": "NVsv37BSdG1_",
        "colab_type": "code",
        "outputId": "6c84de27-7eae-4049-cb02-45df19dd8661",
        "colab": {
          "base_uri": "https://localhost:8080/",
          "height": 173
        }
      },
      "source": [
        "df_tmp = df_tmp[[*(df_relevante + (\"Loser\",\"Winner\",\"Labels\",))]]\n",
        "df_tmp.head(4)"
      ],
      "execution_count": 0,
      "outputs": [
        {
          "output_type": "execute_result",
          "data": {
            "text/html": [
              "<div>\n",
              "<style scoped>\n",
              "    .dataframe tbody tr th:only-of-type {\n",
              "        vertical-align: middle;\n",
              "    }\n",
              "\n",
              "    .dataframe tbody tr th {\n",
              "        vertical-align: top;\n",
              "    }\n",
              "\n",
              "    .dataframe thead th {\n",
              "        text-align: right;\n",
              "    }\n",
              "</style>\n",
              "<table border=\"1\" class=\"dataframe\">\n",
              "  <thead>\n",
              "    <tr style=\"text-align: right;\">\n",
              "      <th></th>\n",
              "      <th>EXW</th>\n",
              "      <th>EXL</th>\n",
              "      <th>L2</th>\n",
              "      <th>L1</th>\n",
              "      <th>PSW</th>\n",
              "      <th>PSL</th>\n",
              "      <th>LPts</th>\n",
              "      <th>WPts</th>\n",
              "      <th>WRank</th>\n",
              "      <th>Date</th>\n",
              "      <th>LRank</th>\n",
              "      <th>Loser</th>\n",
              "      <th>Winner</th>\n",
              "      <th>Labels</th>\n",
              "    </tr>\n",
              "  </thead>\n",
              "  <tbody>\n",
              "    <tr>\n",
              "      <th>0</th>\n",
              "      <td>1.0</td>\n",
              "      <td>1.0</td>\n",
              "      <td>2.0</td>\n",
              "      <td>4.0</td>\n",
              "      <td>1.0</td>\n",
              "      <td>1.0</td>\n",
              "      <td>1.0</td>\n",
              "      <td>1.0</td>\n",
              "      <td>63.0</td>\n",
              "      <td>9.468576e+17</td>\n",
              "      <td>77.0</td>\n",
              "      <td>0</td>\n",
              "      <td>0</td>\n",
              "      <td>1</td>\n",
              "    </tr>\n",
              "    <tr>\n",
              "      <th>1</th>\n",
              "      <td>1.0</td>\n",
              "      <td>1.0</td>\n",
              "      <td>3.0</td>\n",
              "      <td>3.0</td>\n",
              "      <td>1.0</td>\n",
              "      <td>1.0</td>\n",
              "      <td>1.0</td>\n",
              "      <td>1.0</td>\n",
              "      <td>5.0</td>\n",
              "      <td>9.468576e+17</td>\n",
              "      <td>56.0</td>\n",
              "      <td>0</td>\n",
              "      <td>0</td>\n",
              "      <td>0</td>\n",
              "    </tr>\n",
              "    <tr>\n",
              "      <th>2</th>\n",
              "      <td>1.0</td>\n",
              "      <td>1.0</td>\n",
              "      <td>5.0</td>\n",
              "      <td>7.0</td>\n",
              "      <td>1.0</td>\n",
              "      <td>1.0</td>\n",
              "      <td>1.0</td>\n",
              "      <td>1.0</td>\n",
              "      <td>40.0</td>\n",
              "      <td>9.468576e+17</td>\n",
              "      <td>655.0</td>\n",
              "      <td>0</td>\n",
              "      <td>0</td>\n",
              "      <td>0</td>\n",
              "    </tr>\n",
              "    <tr>\n",
              "      <th>3</th>\n",
              "      <td>1.0</td>\n",
              "      <td>1.0</td>\n",
              "      <td>4.0</td>\n",
              "      <td>1.0</td>\n",
              "      <td>1.0</td>\n",
              "      <td>1.0</td>\n",
              "      <td>1.0</td>\n",
              "      <td>1.0</td>\n",
              "      <td>65.0</td>\n",
              "      <td>9.468576e+17</td>\n",
              "      <td>87.0</td>\n",
              "      <td>0</td>\n",
              "      <td>0</td>\n",
              "      <td>1</td>\n",
              "    </tr>\n",
              "  </tbody>\n",
              "</table>\n",
              "</div>"
            ],
            "text/plain": [
              "   EXW  EXL   L2   L1  PSW  ...          Date  LRank  Loser  Winner  Labels\n",
              "0  1.0  1.0  2.0  4.0  1.0  ...  9.468576e+17   77.0      0       0       1\n",
              "1  1.0  1.0  3.0  3.0  1.0  ...  9.468576e+17   56.0      0       0       0\n",
              "2  1.0  1.0  5.0  7.0  1.0  ...  9.468576e+17  655.0      0       0       0\n",
              "3  1.0  1.0  4.0  1.0  1.0  ...  9.468576e+17   87.0      0       0       1\n",
              "\n",
              "[4 rows x 14 columns]"
            ]
          },
          "metadata": {
            "tags": []
          },
          "execution_count": 312
        }
      ]
    },
    {
      "cell_type": "markdown",
      "metadata": {
        "id": "DbeTlMP-uEkF",
        "colab_type": "text"
      },
      "source": [
        "Opponents ATP Ranking Distribution"
      ]
    },
    {
      "cell_type": "code",
      "metadata": {
        "id": "NlMpTfMEqTT9",
        "colab_type": "code",
        "outputId": "0574528e-398f-4e6a-94c0-4ceaf9c78fc8",
        "colab": {
          "base_uri": "https://localhost:8080/",
          "height": 295
        }
      },
      "source": [
        "plt.figure()\n",
        "sns.distplot(df_tmp[df_tmp[\"WRank\"]<100][\"WRank\"], hist = False, kde = True,kde_kws = {'shade': True, 'linewidth': 3})\n",
        "sns.distplot(df_tmp[df_tmp[\"LRank\"]<100][\"LRank\"], hist = False, kde = True,kde_kws = {'shade': True, 'linewidth': 3})\n",
        "plt.xlabel(' Rank')\n",
        "plt.ylabel('Density')\n",
        "plt.title('Distribution of TOP 100 ATP Player')\n",
        "plt.show()\n"
      ],
      "execution_count": 0,
      "outputs": [
        {
          "output_type": "display_data",
          "data": {
            "image/png": "[encoded data removed]",
            "text/plain": [
              "<Figure size 432x288 with 1 Axes>"
            ]
          },
          "metadata": {
            "tags": []
          }
        }
      ]
    },
    {
      "cell_type": "markdown",
      "metadata": {
        "id": "N9psrU0Cw-Rk",
        "colab_type": "text"
      },
      "source": [
        "**2. Modeling**"
      ]
    },
    {
      "cell_type": "code",
      "metadata": {
        "id": "TAhHApCsxDhB",
        "colab_type": "code",
        "colab": {}
      },
      "source": [
        "#Preparing datas for splitting (Train-Test)\n",
        "test_year = 2017\n",
        "df_train = df_tmp.iloc[df_atp[df_atp[\"Date\"].dt.year != test_year].index]\n",
        "df_test  = df_tmp.iloc[df_atp[df_atp[\"Date\"].dt.year == test_year].index]\n"
      ],
      "execution_count": 0,
      "outputs": []
    },
    {
      "cell_type": "code",
      "metadata": {
        "id": "oIDFVVe9xfOR",
        "colab_type": "code",
        "colab": {}
      },
      "source": [
        "#Splitting label of input and output (Train - Test)\n",
        "X_train = df_train.drop([\"Labels\"], axis=1)\n",
        "y_train = df_train[\"Labels\"]\n",
        "\n",
        "X_test = df_test.drop([\"Labels\"], axis=1)\n",
        "y_test = df_test[\"Labels\"]"
      ],
      "execution_count": 0,
      "outputs": []
    },
    {
      "cell_type": "code",
      "metadata": {
        "id": "ZvgNgyIQ0lnU",
        "colab_type": "code",
        "colab": {}
      },
      "source": [
        "from sklearn.metrics import accuracy_score, precision_score, recall_score, f1_score\n",
        "from sklearn.linear_model import LogisticRegression\n",
        "from sklearn.neighbors import KNeighborsClassifier\n",
        "from sklearn.gaussian_process import GaussianProcessClassifier\n",
        "from sklearn.gaussian_process.kernels import RBF\n",
        "from sklearn.tree import DecisionTreeClassifier\n",
        "from sklearn.ensemble import RandomForestClassifier, AdaBoostClassifier\n",
        "from sklearn.naive_bayes import GaussianNB\n",
        "from sklearn.discriminant_analysis import QuadraticDiscriminantAnalysis\n",
        "from time import time"
      ],
      "execution_count": 0,
      "outputs": []
    },
    {
      "cell_type": "code",
      "metadata": {
        "id": "gSb7RmlP1xGR",
        "colab_type": "code",
        "outputId": "8b987a00-9b6a-47bd-d8db-434f9d0a2ed3",
        "colab": {
          "base_uri": "https://localhost:8080/",
          "height": 173
        }
      },
      "source": [
        "names = ['Linear Regression',\"Nearest Neighbors\", \"Decision Tree\", \"Random Forest\", \"AdaBoost\",\"Naive Bayes\"]\n",
        "\n",
        "classifiers = [\n",
        "    LogisticRegression(),\n",
        "    KNeighborsClassifier(5, n_jobs=-1),\n",
        "    DecisionTreeClassifier(max_depth=10),\n",
        "    RandomForestClassifier(max_depth=10, n_estimators=10, n_jobs=-1),\n",
        "    AdaBoostClassifier(),\n",
        "    GaussianNB()\n",
        "]\n",
        "\n",
        "y_pred = []\n",
        "train_time = []\n",
        "\n",
        "for name, clf in zip(names, classifiers):\n",
        "    tic = time()\n",
        "    clf.fit(X_train, y_train)\n",
        "    toc = time()\n",
        "    \n",
        "    y_pred.append(clf.predict(X_train))\n",
        "    train_time.append(toc - tic)\n",
        "    \n",
        "    print(\"Classifier : {} ===> Training duration : {} sec\".format(name, train_time[-1]))"
      ],
      "execution_count": 0,
      "outputs": [
        {
          "output_type": "stream",
          "text": [
            "/usr/local/lib/python3.6/dist-packages/sklearn/linear_model/logistic.py:432: FutureWarning: Default solver will be changed to 'lbfgs' in 0.22. Specify a solver to silence this warning.\n",
            "  FutureWarning)\n"
          ],
          "name": "stderr"
        },
        {
          "output_type": "stream",
          "text": [
            "Classifier : Linear Regression ===> Training duration : 0.05212593078613281 sec\n",
            "Classifier : Nearest Neighbors ===> Training duration : 0.6061506271362305 sec\n",
            "Classifier : Decision Tree ===> Training duration : 0.270449161529541 sec\n",
            "Classifier : Random Forest ===> Training duration : 0.41184115409851074 sec\n",
            "Classifier : AdaBoost ===> Training duration : 2.1305809020996094 sec\n",
            "Classifier : Naive Bayes ===> Training duration : 0.014626741409301758 sec\n"
          ],
          "name": "stdout"
        }
      ]
    },
    {
      "cell_type": "markdown",
      "metadata": {
        "id": "sLxlceH-Cdya",
        "colab_type": "text"
      },
      "source": [
        "**1.Evaluation the model and choose the best model.**"
      ]
    },
    {
      "cell_type": "code",
      "metadata": {
        "id": "ReU5xrH0EzMe",
        "colab_type": "code",
        "colab": {}
      },
      "source": [
        "def find_best_algorithms(y_true, y_pred, name_classifiers, train_time=None):\n",
        "    \"\"\"\n",
        "    Displays multiple evaluation metrics for each classifier\n",
        "    \"\"\"\n",
        "    assert(len(y_pred) == len(name_classifiers))\n",
        "    assert(len(train_time) == len(name_classifiers) if train_time else True)\n",
        "    \n",
        "    reports = []\n",
        "    metrics = [\"Classifier\", \"Accuracy\", \"Precision\", \"Recall\", \"F1-Score\"]\n",
        "    if train_time:\n",
        "        metrics = metrics + [\"Training Duration (seconds)\"]\n",
        "\n",
        "    for idx, y_clf in enumerate(y_pred):\n",
        "        acc = accuracy_score(y_true, y_clf)\n",
        "        pre = precision_score(y_true, y_clf)\n",
        "        rec = recall_score(y_true, y_clf)\n",
        "        f1s = f1_score(y_true, y_clf)\n",
        "        report = (name_classifiers[idx], acc, pre, rec, f1s)\n",
        "        if train_time:\n",
        "            report = report + (train_time[idx], )\n",
        "        reports.append(report)\n",
        "            \n",
        "    display(pd.DataFrame.from_records(reports, columns=metrics))"
      ],
      "execution_count": 0,
      "outputs": []
    },
    {
      "cell_type": "code",
      "metadata": {
        "id": "Lhs4NlniFfha",
        "colab_type": "code",
        "outputId": "87809004-0964-4dd2-af20-b866acb34922",
        "colab": {
          "base_uri": "https://localhost:8080/",
          "height": 235
        }
      },
      "source": [
        "find_best_algorithms(y_train, y_pred, names, train_time)"
      ],
      "execution_count": 0,
      "outputs": [
        {
          "output_type": "display_data",
          "data": {
            "text/html": [
              "<div>\n",
              "<style scoped>\n",
              "    .dataframe tbody tr th:only-of-type {\n",
              "        vertical-align: middle;\n",
              "    }\n",
              "\n",
              "    .dataframe tbody tr th {\n",
              "        vertical-align: top;\n",
              "    }\n",
              "\n",
              "    .dataframe thead th {\n",
              "        text-align: right;\n",
              "    }\n",
              "</style>\n",
              "<table border=\"1\" class=\"dataframe\">\n",
              "  <thead>\n",
              "    <tr style=\"text-align: right;\">\n",
              "      <th></th>\n",
              "      <th>Classifier</th>\n",
              "      <th>Accuracy</th>\n",
              "      <th>Precision</th>\n",
              "      <th>Recall</th>\n",
              "      <th>F1-Score</th>\n",
              "      <th>Training Duration (seconds)</th>\n",
              "    </tr>\n",
              "  </thead>\n",
              "  <tbody>\n",
              "    <tr>\n",
              "      <th>0</th>\n",
              "      <td>Linear Regression</td>\n",
              "      <td>0.508366</td>\n",
              "      <td>0.508366</td>\n",
              "      <td>1.000000</td>\n",
              "      <td>0.674062</td>\n",
              "      <td>0.052126</td>\n",
              "    </tr>\n",
              "    <tr>\n",
              "      <th>1</th>\n",
              "      <td>Nearest Neighbors</td>\n",
              "      <td>0.689266</td>\n",
              "      <td>0.692897</td>\n",
              "      <td>0.698222</td>\n",
              "      <td>0.695549</td>\n",
              "      <td>0.606151</td>\n",
              "    </tr>\n",
              "    <tr>\n",
              "      <th>2</th>\n",
              "      <td>Decision Tree</td>\n",
              "      <td>0.577573</td>\n",
              "      <td>0.573218</td>\n",
              "      <td>0.661742</td>\n",
              "      <td>0.614307</td>\n",
              "      <td>0.270449</td>\n",
              "    </tr>\n",
              "    <tr>\n",
              "      <th>3</th>\n",
              "      <td>Random Forest</td>\n",
              "      <td>0.618992</td>\n",
              "      <td>0.611580</td>\n",
              "      <td>0.686577</td>\n",
              "      <td>0.646912</td>\n",
              "      <td>0.411841</td>\n",
              "    </tr>\n",
              "    <tr>\n",
              "      <th>4</th>\n",
              "      <td>AdaBoost</td>\n",
              "      <td>0.535550</td>\n",
              "      <td>0.542067</td>\n",
              "      <td>0.556581</td>\n",
              "      <td>0.549228</td>\n",
              "      <td>2.130581</td>\n",
              "    </tr>\n",
              "    <tr>\n",
              "      <th>5</th>\n",
              "      <td>Naive Bayes</td>\n",
              "      <td>0.508366</td>\n",
              "      <td>0.508366</td>\n",
              "      <td>1.000000</td>\n",
              "      <td>0.674062</td>\n",
              "      <td>0.014627</td>\n",
              "    </tr>\n",
              "  </tbody>\n",
              "</table>\n",
              "</div>"
            ],
            "text/plain": [
              "          Classifier  Accuracy  ...  F1-Score  Training Duration (seconds)\n",
              "0  Linear Regression  0.508366  ...  0.674062                     0.052126\n",
              "1  Nearest Neighbors  0.689266  ...  0.695549                     0.606151\n",
              "2      Decision Tree  0.577573  ...  0.614307                     0.270449\n",
              "3      Random Forest  0.618992  ...  0.646912                     0.411841\n",
              "4           AdaBoost  0.535550  ...  0.549228                     2.130581\n",
              "5        Naive Bayes  0.508366  ...  0.674062                     0.014627\n",
              "\n",
              "[6 rows x 6 columns]"
            ]
          },
          "metadata": {
            "tags": []
          }
        }
      ]
    },
    {
      "cell_type": "markdown",
      "metadata": {
        "id": "aS2WV3Zj0Idi",
        "colab_type": "text"
      },
      "source": [
        "By taking as metric the F1-score to have a compromise between precision and recall,  we can see that kNN seems to perform the best out of all the algorithms."
      ]
    },
    {
      "cell_type": "code",
      "metadata": {
        "id": "2XkjBlhXFm34",
        "colab_type": "code",
        "outputId": "300b7c42-28bd-40df-b8ec-311bb5eeb6d4",
        "colab": {
          "base_uri": "https://localhost:8080/",
          "height": 235
        }
      },
      "source": [
        "y_test_pred = []\n",
        "\n",
        "for name, clf in zip(names, classifiers):\n",
        "    y_test_pred.append(clf.predict(X_test))\n",
        "find_best_algorithms(y_test, y_test_pred, names)"
      ],
      "execution_count": 0,
      "outputs": [
        {
          "output_type": "display_data",
          "data": {
            "text/html": [
              "<div>\n",
              "<style scoped>\n",
              "    .dataframe tbody tr th:only-of-type {\n",
              "        vertical-align: middle;\n",
              "    }\n",
              "\n",
              "    .dataframe tbody tr th {\n",
              "        vertical-align: top;\n",
              "    }\n",
              "\n",
              "    .dataframe thead th {\n",
              "        text-align: right;\n",
              "    }\n",
              "</style>\n",
              "<table border=\"1\" class=\"dataframe\">\n",
              "  <thead>\n",
              "    <tr style=\"text-align: right;\">\n",
              "      <th></th>\n",
              "      <th>Classifier</th>\n",
              "      <th>Accuracy</th>\n",
              "      <th>Precision</th>\n",
              "      <th>Recall</th>\n",
              "      <th>F1-Score</th>\n",
              "    </tr>\n",
              "  </thead>\n",
              "  <tbody>\n",
              "    <tr>\n",
              "      <th>0</th>\n",
              "      <td>Linear Regression</td>\n",
              "      <td>0.514231</td>\n",
              "      <td>0.514231</td>\n",
              "      <td>1.000000</td>\n",
              "      <td>0.679198</td>\n",
              "    </tr>\n",
              "    <tr>\n",
              "      <th>1</th>\n",
              "      <td>Nearest Neighbors</td>\n",
              "      <td>0.485769</td>\n",
              "      <td>0.500000</td>\n",
              "      <td>0.499631</td>\n",
              "      <td>0.499815</td>\n",
              "    </tr>\n",
              "    <tr>\n",
              "      <th>2</th>\n",
              "      <td>Decision Tree</td>\n",
              "      <td>0.515370</td>\n",
              "      <td>0.530757</td>\n",
              "      <td>0.496679</td>\n",
              "      <td>0.513153</td>\n",
              "    </tr>\n",
              "    <tr>\n",
              "      <th>3</th>\n",
              "      <td>Random Forest</td>\n",
              "      <td>0.525617</td>\n",
              "      <td>0.542510</td>\n",
              "      <td>0.494465</td>\n",
              "      <td>0.517375</td>\n",
              "    </tr>\n",
              "    <tr>\n",
              "      <th>4</th>\n",
              "      <td>AdaBoost</td>\n",
              "      <td>0.532448</td>\n",
              "      <td>0.552972</td>\n",
              "      <td>0.473801</td>\n",
              "      <td>0.510334</td>\n",
              "    </tr>\n",
              "    <tr>\n",
              "      <th>5</th>\n",
              "      <td>Naive Bayes</td>\n",
              "      <td>0.514231</td>\n",
              "      <td>0.514231</td>\n",
              "      <td>1.000000</td>\n",
              "      <td>0.679198</td>\n",
              "    </tr>\n",
              "  </tbody>\n",
              "</table>\n",
              "</div>"
            ],
            "text/plain": [
              "          Classifier  Accuracy  Precision    Recall  F1-Score\n",
              "0  Linear Regression  0.514231   0.514231  1.000000  0.679198\n",
              "1  Nearest Neighbors  0.485769   0.500000  0.499631  0.499815\n",
              "2      Decision Tree  0.515370   0.530757  0.496679  0.513153\n",
              "3      Random Forest  0.525617   0.542510  0.494465  0.517375\n",
              "4           AdaBoost  0.532448   0.552972  0.473801  0.510334\n",
              "5        Naive Bayes  0.514231   0.514231  1.000000  0.679198"
            ]
          },
          "metadata": {
            "tags": []
          }
        }
      ]
    },
    {
      "cell_type": "markdown",
      "metadata": {
        "id": "-dflwopu58C1",
        "colab_type": "text"
      },
      "source": [
        "However, the accuracy on test data of KNN is about 48.57 %"
      ]
    },
    {
      "cell_type": "markdown",
      "metadata": {
        "id": "pB6VSRJIUTwM",
        "colab_type": "text"
      },
      "source": [
        "Hyperparameter Tuning"
      ]
    },
    {
      "cell_type": "markdown",
      "metadata": {
        "id": "5nce2n_SUa7H",
        "colab_type": "text"
      },
      "source": [
        "For now, however, we will use kNN. Let's first try and tune a kNN with cross validation. To do this, we will use grid search. Grid search essentially tries out each combination of values and finds the model with the lowest error metric."
      ]
    },
    {
      "cell_type": "code",
      "metadata": {
        "id": "xhA4PF7vgcSE",
        "colab_type": "code",
        "outputId": "c4f36365-c2fb-465d-e865-b6cf721e6a03",
        "colab": {
          "base_uri": "https://localhost:8080/",
          "height": 51
        }
      },
      "source": [
        "from sklearn.model_selection import cross_val_score\n",
        "#create a new KNN model\n",
        "knn_cv = KNeighborsClassifier(n_neighbors=3)\n",
        "#train model with cv of 5 \n",
        "cv_scores = cross_val_score(knn_cv, X_train, y_train, cv=5)\n",
        "#print each cv score (accuracy) and average them\n",
        "print(cv_scores)\n",
        "print('cv_scores mean:{}'.format(np.mean(cv_scores)))"
      ],
      "execution_count": 0,
      "outputs": [
        {
          "output_type": "stream",
          "text": [
            "[0.50845581 0.49360717 0.46657269 0.48721305 0.49244865]\n",
            "cv_scores mean:0.4896594740478314\n"
          ],
          "name": "stdout"
        }
      ]
    },
    {
      "cell_type": "markdown",
      "metadata": {
        "id": "-OdiBvFI7NrW",
        "colab_type": "text"
      },
      "source": [
        "Using cross-validation, our mean score is about 48.96%"
      ]
    },
    {
      "cell_type": "code",
      "metadata": {
        "id": "WbHb9btPhjc6",
        "colab_type": "code",
        "outputId": "ee1be477-c646-4ec8-9c36-d9b7526e837d",
        "colab": {
          "base_uri": "https://localhost:8080/",
          "height": 221
        }
      },
      "source": [
        "from sklearn.model_selection import GridSearchCV\n",
        "#create new a knn model\n",
        "knn2 = KNeighborsClassifier()\n",
        "#create a dictionary of all values we want to test for n_neighbors\n",
        "param_grid = {'n_neighbors': np.arange(1, 50)}\n",
        "#use gridsearch to test all values for n_neighbors\n",
        "knn_gscv = GridSearchCV(knn2, param_grid, cv=5)\n",
        "#fit model to data\n",
        "knn_gscv.fit(X_train, y_train)"
      ],
      "execution_count": 0,
      "outputs": [
        {
          "output_type": "execute_result",
          "data": {
            "text/plain": [
              "GridSearchCV(cv=5, error_score='raise-deprecating',\n",
              "             estimator=KNeighborsClassifier(algorithm='auto', leaf_size=30,\n",
              "                                            metric='minkowski',\n",
              "                                            metric_params=None, n_jobs=None,\n",
              "                                            n_neighbors=5, p=2,\n",
              "                                            weights='uniform'),\n",
              "             iid='warn', n_jobs=None,\n",
              "             param_grid={'n_neighbors': array([ 1,  2,  3,  4,  5,  6,  7,  8,  9, 10, 11, 12, 13, 14, 15, 16, 17,\n",
              "       18, 19, 20, 21, 22, 23, 24, 25, 26, 27, 28, 29, 30, 31, 32, 33, 34,\n",
              "       35, 36, 37, 38, 39, 40, 41, 42, 43, 44, 45, 46, 47, 48, 49])},\n",
              "             pre_dispatch='2*n_jobs', refit=True, return_train_score=False,\n",
              "             scoring=None, verbose=0)"
            ]
          },
          "metadata": {
            "tags": []
          },
          "execution_count": 322
        }
      ]
    },
    {
      "cell_type": "code",
      "metadata": {
        "id": "0qH5TkD5iDXB",
        "colab_type": "code",
        "outputId": "7cc69e0c-20a3-41dd-db94-988b2b1fe4aa",
        "colab": {
          "base_uri": "https://localhost:8080/",
          "height": 34
        }
      },
      "source": [
        "#check top performing n_neighbors value\n",
        "knn_gscv.best_params_"
      ],
      "execution_count": 0,
      "outputs": [
        {
          "output_type": "execute_result",
          "data": {
            "text/plain": [
              "{'n_neighbors': 7}"
            ]
          },
          "metadata": {
            "tags": []
          },
          "execution_count": 323
        }
      ]
    },
    {
      "cell_type": "markdown",
      "metadata": {
        "id": "ZhuOfsIi6j4V",
        "colab_type": "text"
      },
      "source": [
        "We can see that 7 is the optimal value for \"n_neighbors\". We can use the \"best_score_\" function to check the accuracy of our model when \"n_neighbors\" is 7. \"best_score_\" outputs the mean accuracy of the scores obtained through cross-validation."
      ]
    },
    {
      "cell_type": "code",
      "metadata": {
        "id": "5DNLrIFjiINJ",
        "colab_type": "code",
        "outputId": "ed899fe4-a839-48c3-8898-e9116d266a3a",
        "colab": {
          "base_uri": "https://localhost:8080/",
          "height": 34
        }
      },
      "source": [
        "#check mean score for the top performing value of n_neighbors\n",
        "knn_gscv.best_score_"
      ],
      "execution_count": 0,
      "outputs": [
        {
          "output_type": "execute_result",
          "data": {
            "text/plain": [
              "0.48974085335158973"
            ]
          },
          "metadata": {
            "tags": []
          },
          "execution_count": 324
        }
      ]
    },
    {
      "cell_type": "markdown",
      "metadata": {
        "id": "x9hWLPWJ9zZB",
        "colab_type": "text"
      },
      "source": [
        "Using grid search, our mean score is about 48.97%"
      ]
    },
    {
      "cell_type": "markdown",
      "metadata": {
        "id": "N1JMXIet-8HQ",
        "colab_type": "text"
      },
      "source": [
        "By using grid search, the accuracy of model is improved more than. "
      ]
    },
    {
      "cell_type": "markdown",
      "metadata": {
        "id": "iYTqt2Y-_Pxc",
        "colab_type": "text"
      },
      "source": [
        "## Discussion"
      ]
    },
    {
      "cell_type": "markdown",
      "metadata": {
        "id": "KQV4AUI9_VjB",
        "colab_type": "text"
      },
      "source": [
        "We conducted a building of model on the ATP match dataset from 2000 to 2016 and predict to 2017. Some points need improvement such as: \n",
        "+ Improve data validation / cleansing to improve the accuracy of our model\n",
        "+ Propose th different options for an imputation of missing data. \n",
        "+ Propose an other ways for hyper-parameters tuning (e.g. by splitting the dataset to train/validation/test)\n",
        "+ Try to build the model of prediction by other approach as: Linear-SVM, Kernel SVM or Neural Network,..."
      ]
    }
  ]
}